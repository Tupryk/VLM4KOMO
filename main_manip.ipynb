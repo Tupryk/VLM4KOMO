{
 "cells": [
  {
   "cell_type": "markdown",
   "metadata": {},
   "source": [
    "# VLM for Manipulation Modelling"
   ]
  },
  {
   "cell_type": "code",
   "execution_count": 1,
   "metadata": {},
   "outputs": [],
   "source": [
    "import cma\n",
    "import time\n",
    "import rowan\n",
    "import torch\n",
    "import numpy as np\n",
    "import robotic as ry\n",
    "import matplotlib.pyplot as plt\n",
    "\n",
    "import mess_utils\n",
    "from blackBoxKomoProblemNew import BlackBoxKomoProblem\n",
    "from Robotic_Manipulation import manipulation as manip\n",
    "from utils import grasping_within_komo_definition, clean_komo"
   ]
  },
  {
   "cell_type": "code",
   "execution_count": 2,
   "metadata": {},
   "outputs": [],
   "source": [
    "torch.cuda.empty_cache()"
   ]
  },
  {
   "cell_type": "code",
   "execution_count": 3,
   "metadata": {},
   "outputs": [
    {
     "name": "stdout",
     "output_type": "stream",
     "text": [
      "Device Name: NVIDIA GeForce RTX 3090\n"
     ]
    }
   ],
   "source": [
    "device = torch.device(\"cuda:0\" if torch.cuda.is_available() else \"cpu\")\n",
    "print(f\"Device Name: {torch.cuda.get_device_name(device)}\" if device.type == \"cuda\" else \"Using cpu\")"
   ]
  },
  {
   "cell_type": "markdown",
   "metadata": {},
   "source": [
    "## Prepare your scene"
   ]
  },
  {
   "cell_type": "code",
   "execution_count": 4,
   "metadata": {},
   "outputs": [
    {
     "data": {
      "text/plain": [
       "0"
      ]
     },
     "execution_count": 4,
     "metadata": {},
     "output_type": "execute_result"
    }
   ],
   "source": [
    "C = ry.Config()\n",
    "C.addFile(ry.raiPath(\"./scenarios/push_blob.g\"))\n",
    "qHome = C.getJointState()\n",
    "\n",
    "midpoint = np.array([-0.105, 0.2, 0.745])\n",
    "\n",
    "C.addFrame(\"bin\") \\\n",
    "    .setPosition(midpoint+np.array([-.22,.2,0])) \\\n",
    "    .setShape(ry.ST.box, size=[0.21, .36, .15]) \\\n",
    "    .setColor([28/255, 18/255, 210/255])\n",
    "\n",
    "def sample_rectangular_arena(width=0.4, height=0.4, z_coord=0.745, center_point=[0, 0]):\n",
    "    x = center_point[0] + np.random.uniform(-width / 2, width / 2)\n",
    "    y = center_point[1] + np.random.uniform(-height / 2, height / 2)\n",
    "    return [x, y, z_coord]\n",
    "\n",
    "midpoint = sample_rectangular_arena(width=.68, height=.6, center_point=[.19, .32])\n",
    "\n",
    "base_quat = [-1/np.sqrt(2), 1/np.sqrt(2), 0 ,0 ]\n",
    "rel_quat = rowan.from_axis_angle([0,1,0], np.random.uniform(0, 2*np.pi))\n",
    "\n",
    "C.addFrame(\"blob\") \\\n",
    "    .setPosition(midpoint) \\\n",
    "    .setShape(ry.ST.capsule, size=[.08, .07]) \\\n",
    "    .setColor([106/255, 24/255, 79/255]) \\\n",
    "    .setQuaternion(rowan.multiply(base_quat, rel_quat))\n",
    "C.view()"
   ]
  },
  {
   "cell_type": "markdown",
   "metadata": {},
   "source": [
    "## Define your model (VLM)"
   ]
  },
  {
   "cell_type": "code",
   "execution_count": 5,
   "metadata": {},
   "outputs": [
    {
     "name": "stderr",
     "output_type": "stream",
     "text": [
      "`Qwen2VLRotaryEmbedding` can now be fully parameterized by passing the model config through the `config` argument. All other arguments will be removed in v4.46\n"
     ]
    },
    {
     "data": {
      "application/vnd.jupyter.widget-view+json": {
       "model_id": "7dcfe60bb8f9420f98ec9ccb741a6091",
       "version_major": 2,
       "version_minor": 0
      },
      "text/plain": [
       "Loading checkpoint shards:   0%|          | 0/5 [00:00<?, ?it/s]"
      ]
     },
     "metadata": {},
     "output_type": "display_data"
    }
   ],
   "source": [
    "from transformers import Qwen2VLForConditionalGeneration, AutoProcessor\n",
    "\n",
    "model = Qwen2VLForConditionalGeneration.from_pretrained(\n",
    "    \"Qwen/Qwen2-VL-7B-Instruct\",\n",
    "    torch_dtype=\"auto\",\n",
    "    device_map=device\n",
    ")\n",
    "processor = AutoProcessor.from_pretrained(\"Qwen/Qwen2-VL-7B-Instruct\")"
   ]
  },
  {
   "cell_type": "markdown",
   "metadata": {},
   "source": [
    "## Take a picture of the scene"
   ]
  },
  {
   "cell_type": "code",
   "execution_count": 6,
   "metadata": {},
   "outputs": [
    {
     "data": {
      "text/plain": [
       "<matplotlib.image.AxesImage at 0x7fd8b4bce020>"
      ]
     },
     "execution_count": 6,
     "metadata": {},
     "output_type": "execute_result"
    },
    {
     "data": {
      "image/png": "[encoded data removed]",
      "text/plain": [
       "<Figure size 640x480 with 1 Axes>"
      ]
     },
     "metadata": {},
     "output_type": "display_data"
    }
   ],
   "source": [
    "bot = ry.BotOp(C, False)\n",
    "bot.home(C)\n",
    "bot.gripperMove(ry._left)\n",
    "\n",
    "rgb, depth = bot.getImageAndDepth(\"topCamera\")\n",
    "\n",
    "img_idx = 1\n",
    "image_path = \"./scene_image0.jpg\"\n",
    "plt.imsave(image_path, rgb)\n",
    "plt.imshow(rgb)"
   ]
  },
  {
   "cell_type": "markdown",
   "metadata": {},
   "source": [
    "## Prepare initial prompt"
   ]
  },
  {
   "cell_type": "code",
   "execution_count": 8,
   "metadata": {},
   "outputs": [],
   "source": [
    "from prompting import prompt_qwen\n",
    "\n",
    "task_description = \"Put the blob in the bin.\"\n",
    "\n",
    "with open(\"./prompts/manipulation_modelling/manip_tutorial.txt\", 'r') as file:\n",
    "    tutorial = file.read()\n",
    "\n",
    "with open(\"./prompts/manipulation_modelling/problem_definition.txt\", 'r') as file:\n",
    "    problem_definition = file.read()\n",
    "\n",
    "frame_names = [line for line in C.getFrameNames() if not line.startswith(\"l_\")]\n",
    "frame_names.append(\"l_gripper\")\n",
    "frame_names.append(\"l_palm\")\n",
    "\n",
    "messages = [\n",
    "    {\n",
    "        \"role\": \"user\",\n",
    "        \"content\": [\n",
    "            {\n",
    "                \"type\": \"text\",\n",
    "                \"text\": tutorial,\n",
    "            },\n",
    "            {\n",
    "                \"type\": \"image\",\n",
    "                # \"image\": image_path,\n",
    "                \"image\": \"./example_image.jpg\",\n",
    "            },\n",
    "            {\n",
    "                \"type\": \"text\",\n",
    "                \"text\": f\"{problem_definition}{task_description}\",\n",
    "            },\n",
    "            {\n",
    "                \"type\": \"text\",\n",
    "                \"text\": f\"Here is a list of all available frames: {frame_names}\",\n",
    "            },\n",
    "        ],\n",
    "    },\n",
    "]"
   ]
  },
  {
   "cell_type": "markdown",
   "metadata": {},
   "source": [
    "## Loop until the problem in solved"
   ]
  },
  {
   "cell_type": "code",
   "execution_count": null,
   "metadata": {},
   "outputs": [
    {
     "name": "stdout",
     "output_type": "stream",
     "text": [
      "```python\n",
      "M = manip.ManipulationModelling()\n",
      "M.setup_pick_and_place_waypoints(C, gripper, obj, accumulated_collisions=False)\n",
      "M.grasp_box(1, gripper, obj, 'l_palm')\n",
      "M.target_relative_xy_position(2, obj, 'table', 'place_position')\n",
      "\n",
      "M1 = M.sub_motion(0)\n",
      "M1.retract([0, .2], gripper)\n",
      "M1.keep_distance([.3, .7], 'l_palm', obj, .05)\n",
      "M1.approach([.8, 1], gripper)\n",
      "\n",
      "M2 = M.sub_motion(1)\n",
      "M2.keep_distance([], 'table', 'collisionFrameCamera')\n",
      "M2.keep_distance([], 'l_palm', obj)\n",
      "M2.keep_distance([.2, .8], 'table', obj, .04)\n",
      "```\n",
      "CLEANED VERSION --------------------\n",
      "M = manip.ManipulationModelling()\n",
      "M.setup_pick_and_place_waypoints(C, gripper, obj, accumulated_collisions=False)\n",
      "M.grasp_box(1, gripper, obj, 'l_palm')\n",
      "M.target_relative_xy_position(2, obj, 'table', 'place_position')\n",
      "\n",
      "M1 = M.sub_motion(0)\n",
      "M1.retract([0, .2], gripper)\n",
      "M1.keep_distance([.3, .7], 'l_palm', obj, .05)\n",
      "M1.approach([.8, 1], gripper)\n",
      "\n",
      "M2 = M.sub_motion(1)\n",
      "M2.keep_distance([], 'table', 'collisionFrameCamera')\n",
      "M2.keep_distance([], 'l_palm', obj)\n",
      "M2.keep_distance([.2, .8], 'table', obj, .04)\n",
      "------------------------------\n",
      "========== ERROR ==========\n",
      "name 'gripper' is not defined\n",
      "===========================\n"
     ]
    },
    {
     "name": "stdout",
     "output_type": "stream",
     "text": [
      "-- bot.cpp:~BotOp:135(0) shutting down BotOp...\n"
     ]
    },
    {
     "ename": "",
     "evalue": "",
     "output_type": "error",
     "traceback": [
      "\u001b[1;31mThe Kernel crashed while executing code in the current cell or a previous cell. \n",
      "\u001b[1;31mPlease review the code in the cell(s) to identify a possible cause of the failure. \n",
      "\u001b[1;31mClick <a href='https://aka.ms/vscodeJupyterKernelCrash'>here</a> for more info. \n",
      "\u001b[1;31mView Jupyter <a href='command:jupyter.viewOutput'>log</a> for further details."
     ]
    }
   ],
   "source": [
    "ATTEMPT_COUNT = 1\n",
    "C.setJointState(qHome)\n",
    "for i in range(ATTEMPT_COUNT):\n",
    "\n",
    "    # Initial VLM prompting\n",
    "    problem_definition = prompt_qwen(model, processor, device, messages)\n",
    "    messages.append(mess_utils.basic_struct(\"system\", problem_definition))\n",
    "    print(problem_definition)\n",
    "\n",
    "    # Remove junk\n",
    "    # problem_definition_clean = clean_komo(problem_definition)\n",
    "    # print(\"CLEANED VERSION\", \"-\"*20)\n",
    "    # print(problem_definition_clean)\n",
    "    # print(\"-\"*30)\n",
    "    problem_definition_clean = problem_definition\n",
    "\n",
    "    # Check if komo problem generates any errors\n",
    "    komo: ry.KOMO = None\n",
    "    try:\n",
    "        exec(problem_definition_clean)\n",
    "        ret = ry.NLP_Solver(komo.nlp(), verbose=0).solve()\n",
    "        print(ret)\n",
    "\n",
    "    except Exception as e:\n",
    "        print(\"=\"*10, \"ERROR\", \"=\"*10)\n",
    "        print(e)\n",
    "        print(\"=\"*27)\n",
    "        messages.append(mess_utils.komo_error(e))\n",
    "        continue\n",
    "    \n",
    "    if not ret.feasible:\n",
    "        # Optimize komo parameters until hopefully feasible\n",
    "        bbk = BlackBoxKomoProblem(C, problem_definition_clean, targets=True, verbose=3)\n",
    "        \n",
    "        action, observation = bbk.reset()\n",
    "\n",
    "        options = {\n",
    "        'popsize': 7,\n",
    "        'maxiter': 50,\n",
    "        'maxfevals': 5000,\n",
    "        }\n",
    "        result = cma.fmin(bbk.step, action, sigma0=.1, options=options)\n",
    "        bbk.set_action(result)\n",
    "        komo = bbk.build_komo(C)\n",
    "        ret = ry.NLP_Solver(komo.nlp(), verbose=0).solve()\n",
    "\n",
    "        print(ret)\n",
    "        if not ret.feasible:\n",
    "            messages.append(mess_utils.komo_not_feasible())\n",
    "            continue\n",
    "\n",
    "    # Visualize solution\n",
    "    qs = komo.getPath()\n",
    "\n",
    "    for q in qs:\n",
    "        C.setJointState(q)\n",
    "        C.view()\n",
    "        time.sleep(3./len(qs))\n",
    "    continue\n",
    "\n",
    "    # Identify phases where we grasp\n",
    "    switch_indices = grasping_within_komo_definition(problem_definition)\n",
    "\n",
    "    # Execute on robot\n",
    "    prev_s = 0\n",
    "    for i, s in enumerate(switch_indices):\n",
    "        \n",
    "        # Moving\n",
    "        bot.move(qs[prev_s:s], [3])\n",
    "        while bot.getTimeToEnd() > 0:\n",
    "            bot.sync(C)\n",
    "\n",
    "        # Grasping\n",
    "        if i % 2 == 0:\n",
    "            bot.gripperClose(ry._left)\n",
    "        else:\n",
    "            bot.gripperMove(ry._left)\n",
    "            \n",
    "        prev_s = s\n",
    "\n",
    "    # Take a picture and verify if the task was solved successfully\n",
    "    rgb, depth = bot.getImageAndDepth(\"topCamera\")\n",
    "\n",
    "    image_path = f\"./scene_image{img_idx}.jpg\"\n",
    "    plt.imsave(image_path, rgb)\n",
    "    plt.imshow(rgb)\n",
    "    plt.plot()\n",
    "    img_idx += 1\n",
    "\n",
    "    messages.append(mess_utils.confirm_image(image_path))\n",
    "\n",
    "    image_evaluation = prompt_qwen(model, processor, device, messages)\n",
    "    messages.append(mess_utils.basic_struct(\"system\", image_evaluation))\n",
    "\n",
    "    print(image_evaluation)\n",
    "    print(\"-\"*30)\n",
    "    s = image_evaluation.strip().lower()\n",
    "\n",
    "    if s.startswith(\"yes\"):\n",
    "        break\n",
    "    else:\n",
    "        messages.append(mess_utils.not_solved())"
   ]
  },
  {
   "cell_type": "code",
   "execution_count": null,
   "metadata": {},
   "outputs": [],
   "source": []
  }
 ],
 "metadata": {
  "kernelspec": {
   "display_name": "project",
   "language": "python",
   "name": "python3"
  },
  "language_info": {
   "codemirror_mode": {
    "name": "ipython",
    "version": 3
   },
   "file_extension": ".py",
   "mimetype": "text/x-python",
   "name": "python",
   "nbconvert_exporter": "python",
   "pygments_lexer": "ipython3",
   "version": "3.10.15"
  }
 },
 "nbformat": 4,
 "nbformat_minor": 2
}
