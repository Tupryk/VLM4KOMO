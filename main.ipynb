{
 "cells": [
  {
   "cell_type": "markdown",
   "metadata": {},
   "source": [
    "# VLM for KOMO"
   ]
  },
  {
   "cell_type": "code",
   "execution_count": 1,
   "metadata": {},
   "outputs": [],
   "source": [
    "import cma\n",
    "import time\n",
    "import rowan\n",
    "import torch\n",
    "import numpy as np\n",
    "import robotic as ry\n",
    "import matplotlib.pyplot as plt\n",
    "\n",
    "import mess_utils\n",
    "from blackBoxKomoProblemNew import BlackBoxKomoProblem\n",
    "from utils import grasping_within_komo_definition, clean_komo"
   ]
  },
  {
   "cell_type": "code",
   "execution_count": 2,
   "metadata": {},
   "outputs": [],
   "source": [
    "torch.cuda.empty_cache()"
   ]
  },
  {
   "cell_type": "code",
   "execution_count": 3,
   "metadata": {},
   "outputs": [
    {
     "name": "stdout",
     "output_type": "stream",
     "text": [
      "Device Name: NVIDIA GeForce RTX 3090\n"
     ]
    }
   ],
   "source": [
    "device = torch.device(\"cuda:0\" if torch.cuda.is_available() else \"cpu\")\n",
    "print(f\"Device Name: {torch.cuda.get_device_name(device)}\" if device.type == \"cuda\" else \"Using cpu\")"
   ]
  },
  {
   "cell_type": "markdown",
   "metadata": {},
   "source": [
    "## Prepare your scene"
   ]
  },
  {
   "cell_type": "code",
   "execution_count": 4,
   "metadata": {},
   "outputs": [
    {
     "data": {
      "text/plain": [
       "0"
      ]
     },
     "execution_count": 4,
     "metadata": {},
     "output_type": "execute_result"
    }
   ],
   "source": [
    "C = ry.Config()\n",
    "C.addFile(ry.raiPath(\"./scenarios/push_blob.g\"))\n",
    "qHome = C.getJointState()\n",
    "\n",
    "midpoint = np.array([-0.105, 0.2, 0.745])\n",
    "\n",
    "C.addFrame(\"bin\") \\\n",
    "    .setPosition(midpoint+np.array([-.22,.2,0])) \\\n",
    "    .setShape(ry.ST.box, size=[0.21, .36, .15]) \\\n",
    "    .setColor([28/255, 18/255, 210/255])\n",
    "\n",
    "def sample_rectangular_arena(width=0.4, height=0.4, z_coord=0.745, center_point=[0, 0]):\n",
    "    x = center_point[0] + np.random.uniform(-width / 2, width / 2)\n",
    "    y = center_point[1] + np.random.uniform(-height / 2, height / 2)\n",
    "    return [x, y, z_coord]\n",
    "\n",
    "midpoint = sample_rectangular_arena(width=.68, height=.6, center_point=[.19, .32])\n",
    "\n",
    "base_quat = [-1/np.sqrt(2), 1/np.sqrt(2), 0 ,0 ]\n",
    "rel_quat = rowan.from_axis_angle([0,1,0], np.random.uniform(0, 2*np.pi))\n",
    "\n",
    "C.addFrame(\"blob\") \\\n",
    "    .setPosition(midpoint) \\\n",
    "    .setShape(ry.ST.capsule, size=[.08, .07]) \\\n",
    "    .setColor([106/255, 24/255, 79/255]) \\\n",
    "    .setQuaternion(rowan.multiply(base_quat, rel_quat))\n",
    "C.view()"
   ]
  },
  {
   "cell_type": "markdown",
   "metadata": {},
   "source": [
    "## Define your model (VLM)"
   ]
  },
  {
   "cell_type": "code",
   "execution_count": 5,
   "metadata": {},
   "outputs": [],
   "source": [
    "# from transformers import Qwen2VLForConditionalGeneration, AutoProcessor\n",
    "\n",
    "# model = Qwen2VLForConditionalGeneration.from_pretrained(\n",
    "#     \"Qwen/Qwen2-VL-7B-Instruct\",\n",
    "#     torch_dtype=\"auto\",\n",
    "#     device_map=device\n",
    "# )\n",
    "# processor = AutoProcessor.from_pretrained(\"Qwen/Qwen2-VL-7B-Instruct\")"
   ]
  },
  {
   "cell_type": "markdown",
   "metadata": {},
   "source": [
    "## Take a picture of the scene"
   ]
  },
  {
   "cell_type": "code",
   "execution_count": 6,
   "metadata": {},
   "outputs": [
    {
     "data": {
      "text/plain": [
       "<matplotlib.image.AxesImage at 0x7f0da60c9f30>"
      ]
     },
     "execution_count": 6,
     "metadata": {},
     "output_type": "execute_result"
    },
    {
     "data": {
      "image/png": "[encoded data removed]",
      "text/plain": [
       "<Figure size 640x480 with 1 Axes>"
      ]
     },
     "metadata": {},
     "output_type": "display_data"
    }
   ],
   "source": [
    "bot = ry.BotOp(C, False)\n",
    "bot.home(C)\n",
    "bot.gripperMove(ry._left)\n",
    "\n",
    "rgb, depth = bot.getImageAndDepth(\"topCamera\")\n",
    "\n",
    "img_idx = 1\n",
    "image_path = \"./scene_image0.jpg\"\n",
    "plt.imsave(image_path, rgb)\n",
    "plt.imshow(rgb)"
   ]
  },
  {
   "cell_type": "markdown",
   "metadata": {},
   "source": [
    "## Prepare initial prompt"
   ]
  },
  {
   "cell_type": "code",
   "execution_count": 7,
   "metadata": {},
   "outputs": [],
   "source": [
    "from prompting import prompt_qwen\n",
    "\n",
    "task_description = \"Put the blob in the bin.\"\n",
    "\n",
    "with open(\"./prompts/komo_tutorial.txt\", 'r') as file:\n",
    "    komo_tutorial = file.read()\n",
    "\n",
    "with open(\"./prompts/problem_definition.txt\", 'r') as file:\n",
    "    problem_definition = file.read()\n",
    "\n",
    "frame_names = [line for line in C.getFrameNames() if not line.startswith(\"l_\")]\n",
    "frame_names.append(\"l_gripper\")\n",
    "frame_names.append(\"l_palm\")\n",
    "\n",
    "messages = [\n",
    "    {\n",
    "        \"role\": \"user\",\n",
    "        \"content\": [\n",
    "            {\n",
    "                \"type\": \"text\",\n",
    "                \"text\": komo_tutorial,\n",
    "            },\n",
    "            {\n",
    "                \"type\": \"image\",\n",
    "                # \"image\": image_path,\n",
    "                \"image\": \"./example_image.jpg\",\n",
    "            },\n",
    "            {\n",
    "                \"type\": \"text\",\n",
    "                \"text\": f\"{problem_definition}{task_description}\",\n",
    "                # \"text\": \"Explain how many phases the problem should have.\",\n",
    "            },\n",
    "            {\n",
    "                \"type\": \"text\",\n",
    "                \"text\": f\"Here is a list of all available frames: {frame_names}\",\n",
    "            },\n",
    "        ],\n",
    "    },\n",
    "    # {\n",
    "    #     \"role\": \"system\",\n",
    "    #     \"content\": [\n",
    "    #         {\n",
    "    #             \"type\": \"text\",\n",
    "    #             \"text\": \"The problem should have 4 phases.\",\n",
    "    #         },\n",
    "    #     ],\n",
    "    # },\n",
    "    # {\n",
    "    #     \"role\": \"user\",\n",
    "    #     \"content\": [\n",
    "    #         {\n",
    "    #             \"type\": \"text\",\n",
    "    #             \"text\": \"Explain what happens in each phase.\",\n",
    "    #         },\n",
    "    #     ],\n",
    "    # }\n",
    "]"
   ]
  },
  {
   "cell_type": "markdown",
   "metadata": {},
   "source": [
    "## Loop until the problem in solved"
   ]
  },
  {
   "cell_type": "code",
   "execution_count": null,
   "metadata": {},
   "outputs": [
    {
     "name": "stdout",
     "output_type": "stream",
     "text": [
      "komo = ry.KOMO(C, 3.0, 30, 2, False)\n",
      "\n",
      "# Avoid collisions and joint limit violations\n",
      "komo.addObjective([], ry.FS.accumulatedCollisions, [], ry.OT.eq)\n",
      "komo.addObjective([], ry.FS.jointLimits, [], ry.OT.ineq)\n",
      "\n",
      "# Grasp the blob\n",
      "komo.addModeSwitch([1., 2.], ry.SY.stable, [\"l_gripper\", \"blob\"])\n",
      "komo.addObjective([1.], ry.FS.positionDiff, [\"l_gripper\", \"blob\"], ry.OT.eq, [1e2])\n",
      "komo.addObjective([1.], ry.FS.scalarProductXX, [\"l_gripper\", \"blob\"], ry.OT.eq, [1e2], [0.])\n",
      "komo.addObjective([1.], ry.FS.vectorZ, [\"l_gripper\"], ry.OT.eq, [1e2], [0., 0., 1.])\n",
      "\n",
      "# Move blob to the bin\n",
      "komo.addModeSwitch([2., -1.], ry.SY.stable, [\"bin\", \"blob\"])\n",
      "komo.addObjective([2.], ry.FS.positionDiff, [\"blob\", \"bin\"], ry.OT.eq, [1e2], [0., 0., .1])\n",
      "komo.addObjective([2.], ry.FS.vectorZ, [\"l_gripper\"], ry.OT.eq, [1e2], [0., 0., 1.])\n",
      "\n",
      "# Smooth motion and control objectives\n",
      "komo.addControlObjective([], 0, 1e0)\n",
      "komo.addControlObjective([], 2, 1e0)\n",
      "\n",
      "\n",
      "CLEANED VERSION --------------------\n",
      "komo = ry.KOMO(C, 3.0, 30, 2, False)\n",
      "\n",
      "# Avoid collisions and joint limit violations\n",
      "komo.addObjective([], ry.FS.accumulatedCollisions, [], ry.OT.eq)\n",
      "komo.addObjective([], ry.FS.jointLimits, [], ry.OT.ineq)\n",
      "\n",
      "# Grasp the blob\n",
      "komo.addModeSwitch([1., 2.], ry.SY.stable, [\"l_gripper\", \"blob\"])\n",
      "komo.addObjective([1.], ry.FS.positionDiff, [\"l_gripper\", \"blob\"], ry.OT.eq, [1e2])\n",
      "komo.addObjective([1.], ry.FS.scalarProductXX, [\"l_gripper\", \"blob\"], ry.OT.eq, [1e2], [0.])\n",
      "komo.addObjective([1.], ry.FS.vectorZ, [\"l_gripper\"], ry.OT.eq, [1e2], [0., 0., 1.])\n",
      "\n",
      "# Move blob to the bin\n",
      "komo.addModeSwitch([2., -1.], ry.SY.stable, [\"bin\", \"blob\"])\n",
      "komo.addObjective([2.], ry.FS.positionDiff, [\"blob\", \"bin\"], ry.OT.eq, [1e2], [0., 0., .1])\n",
      "komo.addObjective([2.], ry.FS.vectorZ, [\"l_gripper\"], ry.OT.eq, [1e2], [0., 0., 1.])\n",
      "\n",
      "# Smooth motion and control objectives\n",
      "komo.addControlObjective([], 0, 1e0)\n",
      "komo.addControlObjective([], 2, 1e0)\n",
      "------------------------------\n",
      "{ time: 0.057211, evals: 21, done: 1, feasible: 1, sos: 130.786, f: 0, ineq: 0, eq: 0.00229861 }\n"
     ]
    }
   ],
   "source": [
    "ATTEMPT_COUNT = 1\n",
    "C.setJointState(qHome)\n",
    "for i in range(ATTEMPT_COUNT):\n",
    "\n",
    "    # Initial VLM prompting\n",
    "    # komo_definition = prompt_qwen(model, processor, device, messages)\n",
    "    with open(\"./prompts/chatgpt_output.txt\", 'r') as file:\n",
    "        komo_definition = file.read()\n",
    "\n",
    "    messages.append(mess_utils.basic_struct(\"system\", komo_definition))\n",
    "    print(komo_definition)\n",
    "\n",
    "    # Remove junk\n",
    "    komo_definition_clean = clean_komo(komo_definition)\n",
    "    print(\"CLEANED VERSION\", \"-\"*20)\n",
    "    print(komo_definition_clean)\n",
    "    print(\"-\"*30)\n",
    "\n",
    "    # continue\n",
    "\n",
    "    # Check if komo problem generates any errors\n",
    "    komo: ry.KOMO = None\n",
    "    try:\n",
    "        exec(komo_definition_clean)\n",
    "        ret = ry.NLP_Solver(komo.nlp(), verbose=0).solve()\n",
    "        print(ret)\n",
    "\n",
    "    except Exception as e:\n",
    "        print(\"=\"*10, \"ERROR\", \"=\"*10)\n",
    "        print(e)\n",
    "        print(\"=\"*27)\n",
    "        messages.append(mess_utils.komo_error(e))\n",
    "        continue\n",
    "    \n",
    "    # if not ret.feasible:\n",
    "    #     # Optimize komo parameters until hopefully feasible\n",
    "    #     bbk = BlackBoxKomoProblem(C, komo_definition_clean, targets=True, verbose=3)\n",
    "        \n",
    "    #     action, observation = bbk.reset()\n",
    "\n",
    "    #     options = {\n",
    "    #     'popsize': 7,\n",
    "    #     'maxiter': 50,\n",
    "    #     'maxfevals': 5000,\n",
    "    #     }\n",
    "    #     result = cma.fmin(bbk.step, action, sigma0=.1, options=options)\n",
    "    #     bbk.set_action(result)\n",
    "    #     komo = bbk.build_komo(C)\n",
    "    #     ret = ry.NLP_Solver(komo.nlp(), verbose=0).solve()\n",
    "\n",
    "    #     print(ret)\n",
    "    #     if not ret.feasible:\n",
    "    #         messages.append(mess_utils.komo_not_feasible())\n",
    "    #         continue\n",
    "\n",
    "    # Visualize solution\n",
    "    qs = komo.getPath()\n",
    "\n",
    "    for q in qs:\n",
    "        C.setJointState(q)\n",
    "        C.view()\n",
    "        time.sleep(3./len(qs))\n",
    "    continue\n",
    "\n",
    "    # Identify phases where we grasp\n",
    "    switch_indices = grasping_within_komo_definition(komo_definition)\n",
    "\n",
    "    # Execute on robot\n",
    "    prev_s = 0\n",
    "    for i, s in enumerate(switch_indices):\n",
    "        \n",
    "        # Moving\n",
    "        bot.move(qs[prev_s:s], [3])\n",
    "        while bot.getTimeToEnd() > 0:\n",
    "            bot.sync(C)\n",
    "\n",
    "        # Grasping\n",
    "        if i % 2 == 0:\n",
    "            bot.gripperClose(ry._left)\n",
    "        else:\n",
    "            bot.gripperMove(ry._left)\n",
    "            \n",
    "        prev_s = s\n",
    "\n",
    "    # Take a picture and verify if the task was solved successfully\n",
    "    rgb, depth = bot.getImageAndDepth(\"topCamera\")\n",
    "\n",
    "    image_path = f\"./scene_image{img_idx}.jpg\"\n",
    "    plt.imsave(image_path, rgb)\n",
    "    plt.imshow(rgb)\n",
    "    plt.plot()\n",
    "    img_idx += 1\n",
    "\n",
    "    messages.append(mess_utils.confirm_image(image_path))\n",
    "\n",
    "    image_evaluation = prompt_qwen(model, processor, device, messages)\n",
    "    messages.append(mess_utils.basic_struct(\"system\", image_evaluation))\n",
    "\n",
    "    print(image_evaluation)\n",
    "    print(\"-\"*30)\n",
    "    s = image_evaluation.strip().lower()\n",
    "\n",
    "    if s.startswith(\"yes\"):\n",
    "        break\n",
    "    else:\n",
    "        messages.append(mess_utils.not_solved())"
   ]
  },
  {
   "cell_type": "code",
   "execution_count": null,
   "metadata": {},
   "outputs": [],
   "source": []
  }
 ],
 "metadata": {
  "kernelspec": {
   "display_name": "project",
   "language": "python",
   "name": "python3"
  },
  "language_info": {
   "codemirror_mode": {
    "name": "ipython",
    "version": 3
   },
   "file_extension": ".py",
   "mimetype": "text/x-python",
   "name": "python",
   "nbconvert_exporter": "python",
   "pygments_lexer": "ipython3",
   "version": "3.10.15"
  }
 },
 "nbformat": 4,
 "nbformat_minor": 2
}
