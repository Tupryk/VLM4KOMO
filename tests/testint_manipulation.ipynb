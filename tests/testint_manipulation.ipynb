{
 "cells": [
  {
   "cell_type": "markdown",
   "metadata": {},
   "source": [
    "# VLM for KOMO"
   ]
  },
  {
   "cell_type": "code",
   "execution_count": 1,
   "metadata": {},
   "outputs": [],
   "source": [
    "import time\n",
    "import rowan\n",
    "import torch\n",
    "import numpy as np\n",
    "import robotic as ry\n",
    "import matplotlib.pyplot as plt\n",
    "\n",
    "\n",
    "import sys\n",
    "sys.path.append('..')\n",
    "from utils import grasping_within_komo_definition"
   ]
  },
  {
   "cell_type": "code",
   "execution_count": 2,
   "metadata": {},
   "outputs": [],
   "source": [
    "torch.cuda.empty_cache()"
   ]
  },
  {
   "cell_type": "code",
   "execution_count": 3,
   "metadata": {},
   "outputs": [
    {
     "name": "stdout",
     "output_type": "stream",
     "text": [
      "Device Name: NVIDIA GeForce RTX 3090\n"
     ]
    }
   ],
   "source": [
    "device = torch.device(\"cuda:0\" if torch.cuda.is_available() else \"cpu\")\n",
    "print(f\"Device Name: {torch.cuda.get_device_name(device)}\" if device.type == \"cuda\" else \"Using cpu\")"
   ]
  },
  {
   "cell_type": "markdown",
   "metadata": {},
   "source": [
    "## Prepare your scene"
   ]
  },
  {
   "cell_type": "code",
   "execution_count": 4,
   "metadata": {},
   "outputs": [
    {
     "data": {
      "text/plain": [
       "0"
      ]
     },
     "execution_count": 4,
     "metadata": {},
     "output_type": "execute_result"
    }
   ],
   "source": [
    "C = ry.Config()\n",
    "C.addFile(ry.raiPath(\"./scenarios/push_blob.g\"))\n",
    "\n",
    "midpoint = np.array([-0.105, 0.2, 0.745])\n",
    "\n",
    "C.addFrame(\"bin\") \\\n",
    "    .setPosition(midpoint+np.array([-.22,.2,0])) \\\n",
    "    .setShape(ry.ST.box, size=[0.21, .36, .15]) \\\n",
    "    .setColor([28/255, 18/255, 210/255]) \\\n",
    "\n",
    "def sample_rectangular_arena(width=0.4, height=0.4, z_coord=0.745, center_point=[0, 0]):\n",
    "    x = center_point[0] + np.random.uniform(-width / 2, width / 2)\n",
    "    y = center_point[1] + np.random.uniform(-height / 2, height / 2)\n",
    "    return [x, y, z_coord]\n",
    "\n",
    "midpoint = sample_rectangular_arena(width=.68, height=.6, center_point=[.19, .32])\n",
    "\n",
    "base_quat = [-1/np.sqrt(2), 1/np.sqrt(2), 0 ,0 ]\n",
    "rel_quat = rowan.from_axis_angle([0,1,0], np.random.uniform(0, 2*np.pi))\n",
    "\n",
    "C.addFrame(\"blob\") \\\n",
    "    .setPosition(midpoint) \\\n",
    "    .setShape(ry.ST.capsule, size=[.08, .07]) \\\n",
    "    .setColor([106/255, 24/255, 79/255]) \\\n",
    "    .setQuaternion(rowan.multiply(base_quat, rel_quat))\n",
    "C.view()"
   ]
  },
  {
   "cell_type": "markdown",
   "metadata": {},
   "source": [
    "## Define your model (VLM)"
   ]
  },
  {
   "cell_type": "code",
   "execution_count": 5,
   "metadata": {},
   "outputs": [
    {
     "name": "stderr",
     "output_type": "stream",
     "text": [
      "/home/eckart/miniconda3/envs/project/lib/python3.10/site-packages/tqdm/auto.py:21: TqdmWarning: IProgress not found. Please update jupyter and ipywidgets. See https://ipywidgets.readthedocs.io/en/stable/user_install.html\n",
      "  from .autonotebook import tqdm as notebook_tqdm\n",
      "`Qwen2VLRotaryEmbedding` can now be fully parameterized by passing the model config through the `config` argument. All other arguments will be removed in v4.46\n",
      "Loading checkpoint shards: 100%|██████████| 5/5 [00:02<00:00,  1.95it/s]\n"
     ]
    }
   ],
   "source": [
    "from transformers import Qwen2VLForConditionalGeneration, AutoProcessor\n",
    "\n",
    "model = Qwen2VLForConditionalGeneration.from_pretrained(\n",
    "    \"Qwen/Qwen2-VL-7B-Instruct\",\n",
    "    torch_dtype=\"auto\",\n",
    "    device_map=device\n",
    ")\n",
    "processor = AutoProcessor.from_pretrained(\"Qwen/Qwen2-VL-7B-Instruct\")"
   ]
  },
  {
   "cell_type": "markdown",
   "metadata": {},
   "source": [
    "## Take a picture of the scene"
   ]
  },
  {
   "cell_type": "code",
   "execution_count": 6,
   "metadata": {},
   "outputs": [
    {
     "data": {
      "text/plain": [
       "<matplotlib.image.AxesImage at 0x7efcc12c2200>"
      ]
     },
     "execution_count": 6,
     "metadata": {},
     "output_type": "execute_result"
    },
    {
     "data": {
      "image/png": "[encoded data removed]",
      "text/plain": [
       "<Figure size 640x480 with 1 Axes>"
      ]
     },
     "metadata": {},
     "output_type": "display_data"
    }
   ],
   "source": [
    "bot = ry.BotOp(C, False)\n",
    "bot.home(C)\n",
    "bot.gripperMove(ry._left)\n",
    "\n",
    "rgb, depth = bot.getImageAndDepth(\"topCamera\")\n",
    "\n",
    "img_idx = 1\n",
    "image_path = \"../scene_image0.jpg\"\n",
    "plt.imsave(image_path, rgb)\n",
    "plt.imshow(rgb)"
   ]
  },
  {
   "cell_type": "markdown",
   "metadata": {},
   "source": [
    "## Prepare initial prompt"
   ]
  },
  {
   "cell_type": "code",
   "execution_count": 27,
   "metadata": {},
   "outputs": [],
   "source": [
    "from prompting import prompt_qwen\n",
    "\n",
    "#task_description = \"Put the blob in the bin.\"\n",
    "task_description = \"Push the blob onto the bin.\"\n",
    "\n",
    "\n",
    "with open(\"../prompts/manipulation_modelling/manip_tutorial.txt\", 'r') as file:\n",
    "    manip_tutorial = file.read()\n",
    "\n",
    "with open(\"../prompts/manipulation_modelling/problem_definition.txt\", 'r') as file:\n",
    "    problem_definition = file.read()\n",
    "\n",
    "frame_names = [line for line in C.getFrameNames() if not line.startswith(\"l_\")]\n",
    "frame_names.append(\"l_gripper\")\n",
    "frame_names.append(\"l_palm\")\n",
    "\n",
    "messages = [\n",
    "    {\n",
    "        \"role\": \"user\",\n",
    "        \"content\": [\n",
    "            {\n",
    "                \"type\": \"text\",\n",
    "                \"text\": manip_tutorial,\n",
    "            },\n",
    "            {\n",
    "                \"type\": \"image\",\n",
    "                # \"image\": image_path,\n",
    "                \"image\": \"../example_image.jpg\",\n",
    "            },\n",
    "            {\n",
    "                \"type\": \"text\",\n",
    "                \"text\": f\"{problem_definition}{task_description}\",\n",
    "            },\n",
    "            {\n",
    "                \"type\": \"text\",\n",
    "                \"text\": f\"Here is a list of all available frames: {frame_names}\",\n",
    "            },\n",
    "        ],\n",
    "    },\n",
    "]"
   ]
  },
  {
   "cell_type": "code",
   "execution_count": 28,
   "metadata": {},
   "outputs": [
    {
     "name": "stdout",
     "output_type": "stream",
     "text": [
      "```python\n",
      "M = manip.ManipulationModelling()\n",
      "M.setup_pick_and_place_waypoints(C, gripper, blob, accumulated_collisions=False)\n",
      "M.straight_push([1, 2], blob, gripper, table)\n",
      "M.target_xy_position(2, blob, target_pos)\n",
      "\n",
      "M1 = M.sub_motion(0)\n",
      "M1.retractPush([0.0, 0.15], gripper, 0.03)\n",
      "M1.approachPush([0.85, 1.0], gripper, 0.03)\n",
      "M1.keep_distance([0.15, 0.85], blob, 'l_palm', 0.02)\n",
      "\n",
      "M2 = M.sub_motion(1, accumulated_collisions=False)\n",
      "```\n"
     ]
    }
   ],
   "source": [
    "print(prompt_qwen(model, processor, device, messages))"
   ]
  }
 ],
 "metadata": {
  "kernelspec": {
   "display_name": "project",
   "language": "python",
   "name": "python3"
  },
  "language_info": {
   "codemirror_mode": {
    "name": "ipython",
    "version": 3
   },
   "file_extension": ".py",
   "mimetype": "text/x-python",
   "name": "python",
   "nbconvert_exporter": "python",
   "pygments_lexer": "ipython3",
   "version": "3.10.15"
  }
 },
 "nbformat": 4,
 "nbformat_minor": 2
}
