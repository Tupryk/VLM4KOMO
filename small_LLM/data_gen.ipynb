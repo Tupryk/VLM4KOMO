{
 "cells": [
  {
   "cell_type": "code",
   "execution_count": 1,
   "metadata": {},
   "outputs": [],
   "source": [
    "import os\n",
    "import json\n",
    "import numpy as np\n",
    "# import robotic as ry\n",
    "from tqdm import tqdm\n",
    "from lookup import features, contraint_types\n",
    "from komo_generators import generate_random_komo, generate_random_pick\n",
    "# from random_kitchen_generator import generate_random_kitchen"
   ]
  },
  {
   "cell_type": "code",
   "execution_count": 2,
   "metadata": {},
   "outputs": [],
   "source": [
    "# C = generate_random_kitchen(seed=84979, root_path=\"/home/denis/rai-robotModels/robocasa/\")\n",
    "# frame_names = C.getFrameNames()\n",
    "# features[\"qItself\"][1] = len(C.getJointState())\n",
    "frame_names = [\"r_gripper\", \"omnibase\", \"floor\", \"obj1\", \"obj2\"]"
   ]
  },
  {
   "cell_type": "markdown",
   "metadata": {},
   "source": [
    "## Generate KOMO texts"
   ]
  },
  {
   "cell_type": "code",
   "execution_count": 3,
   "metadata": {},
   "outputs": [],
   "source": [
    "# Special Features (for pure random KOMOs)\n",
    "lucky_frames = [\"r_gripper\", \"r_palm\"]\n",
    "lucky_features = [\"positionDiff\", \"position\", \"vectorX\", \"vectorY\", \"vectorZ\", \"quaternion\", \"negDistance\"]\n",
    "\n",
    "# Special Features (for random manipulation KOMOs)\n",
    "end_effector_frames = [\"r_gripper\"]\n",
    "mobile_base_frames = [\"omnibase\"]\n",
    "object_frames = []  # Frames that are not attached to anything that can be manipulated with basic pick, place, push, etc.\n",
    "jointed_frames = []  # Frames that have a parent / grandparent / great-grandparent / etc. that is a joint (Not including robot)\n",
    "world_attach_frames = [\"floor\"]  # Like table in manipulation.py, some sort of world frame that tells us the world rotation and for us to place stuff after a mode switch."
   ]
  },
  {
   "cell_type": "code",
   "execution_count": 4,
   "metadata": {},
   "outputs": [],
   "source": [
    "# komo_generator = lambda: generate_random_komo(frame_names, features, lucky_frames, lucky_features)\n",
    "komo_generator = lambda: generate_random_pick(end_effector_frames, object_frames, world_attach_frames)"
   ]
  },
  {
   "cell_type": "code",
   "execution_count": null,
   "metadata": {},
   "outputs": [],
   "source": [
    "for i in range(10):\n",
    "    komo_text = komo_generator()\n",
    "    print(komo_text)"
   ]
  },
  {
   "cell_type": "code",
   "execution_count": null,
   "metadata": {},
   "outputs": [],
   "source": [
    "komo_samples = 10\n",
    "\n",
    "outfolder = \"./komo_samples\"\n",
    "text_outfolder = os.path.join(outfolder, \"texts\")\n",
    "if not os.path.exists(text_outfolder):\n",
    "    os.makedirs(text_outfolder)\n",
    "else:\n",
    "    for file in os.listdir(text_outfolder):\n",
    "        file_path = os.path.join(text_outfolder, file)\n",
    "        os.remove(file_path)\n",
    "\n",
    "for i in tqdm(range(komo_samples)):\n",
    "    komo_text = generate_random_komo()\n",
    "    filename = os.path.join(text_outfolder, f\"komo{i}.txt\")\n",
    "    with open(filename, \"w\") as file:\n",
    "        file.write(komo_text)"
   ]
  },
  {
   "cell_type": "markdown",
   "metadata": {},
   "source": [
    "## Classify KOMO texts"
   ]
  },
  {
   "cell_type": "code",
   "execution_count": null,
   "metadata": {},
   "outputs": [],
   "source": [
    "total_komos = 0\n",
    "total_feasible_komos = 0\n",
    "total_error_komos = 0\n",
    "\n",
    "feasible_komos = []\n",
    "error_komos = []\n",
    "\n",
    "for i in tqdm(range(komo_samples)):\n",
    "    \n",
    "    filename = os.path.join(text_outfolder, f\"komo{i}.txt\")\n",
    "    with open(filename, \"r\") as file:\n",
    "        komo_text = file.read()\n",
    "\n",
    "    # print(f\"Processing file {filename}...\")\n",
    "    total_komos += 1\n",
    "    \n",
    "    try:\n",
    "        komo = ry.KOMO(C, 1, 1, 0, False)\n",
    "        exec(komo_text)\n",
    "        ret = ry.NLP_Solver(komo.nlp(), verbose=0).solve()\n",
    "    except:\n",
    "        total_error_komos += 1\n",
    "        error_komos.append(i)\n",
    "        continue\n",
    "    \n",
    "    if ret.feasible:\n",
    "        total_feasible_komos += 1\n",
    "        feasible_komos.append(i)\n",
    "    \n",
    "    if (i+1)%(komo_samples//10) == 0:\n",
    "        print(f\"Total feasible komos: {total_feasible_komos}\")\n",
    "        print(f\"Total error komos: {total_error_komos}\")\n",
    "        print(f\"Total komos: {total_komos}\")\n",
    "        print(f\"{(total_feasible_komos/total_komos)*100:.2f}% feasible\")"
   ]
  },
  {
   "cell_type": "code",
   "execution_count": null,
   "metadata": {},
   "outputs": [],
   "source": [
    "result = f\"\"\"Total feasible komos - Total error komos - Total komos: \n",
    "{total_feasible_komos} - {total_error_komos} - {total_komos}. \n",
    "({(total_feasible_komos/total_komos)*100:.2f}% feasible)\"\"\"\n",
    "print(result)\n",
    "print(feasible_komos)\n",
    "results_file_path = os.path.join(outfolder, \"feasibles.json\")\n",
    "results_dict = {\n",
    "    \"feasible_komos\": feasible_komos,\n",
    "    \"error_komos\": error_komos,\n",
    "}\n",
    "json.dump(results_dict, open(results_file_path, 'w'))"
   ]
  },
  {
   "cell_type": "markdown",
   "metadata": {},
   "source": [
    "## Visualize feasible KOMOs"
   ]
  },
  {
   "cell_type": "code",
   "execution_count": null,
   "metadata": {},
   "outputs": [],
   "source": [
    "feasibe_samples_count = 10\n",
    "feasibe_samples = np.random.choice(feasible_komos, feasibe_samples_count, replace=False)\n",
    "\n",
    "for i in feasibe_samples:\n",
    "\n",
    "    filename = os.path.join(text_outfolder, f\"komo{i}.txt\")\n",
    "    with open(filename, \"r\") as file:\n",
    "        komo_text = file.read()\n",
    "    print(f\"__________ SAMPLE {i} __________\")\n",
    "    print(komo_text)\n",
    "\n",
    "    komo = ry.KOMO(C, 1, 1, 0, False)\n",
    "    exec(komo_text)\n",
    "    ret = ry.NLP_Solver(komo.nlp(), verbose=0).solve()\n",
    "\n",
    "    komo.view_play(True)"
   ]
  }
 ],
 "metadata": {
  "kernelspec": {
   "display_name": "robocup",
   "language": "python",
   "name": "python3"
  },
  "language_info": {
   "codemirror_mode": {
    "name": "ipython",
    "version": 3
   },
   "file_extension": ".py",
   "mimetype": "text/x-python",
   "name": "python",
   "nbconvert_exporter": "python",
   "pygments_lexer": "ipython3",
   "version": "3.10.15"
  }
 },
 "nbformat": 4,
 "nbformat_minor": 2
}
