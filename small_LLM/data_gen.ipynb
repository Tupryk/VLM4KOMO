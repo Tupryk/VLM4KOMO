{
 "cells": [
  {
   "cell_type": "code",
   "execution_count": 1,
   "metadata": {},
   "outputs": [],
   "source": [
    "import os\n",
    "import json\n",
    "import numpy as np\n",
    "import robotic as ry\n",
    "from tqdm import tqdm\n",
    "from lookup import features, contraint_types\n",
    "from komo_generators import generate_random_komo, generate_random_pick, generate_random_pivot\n",
    "from random_kitchen_generator import generate_random_kitchen, load_single_from_type"
   ]
  },
  {
   "cell_type": "code",
   "execution_count": 2,
   "metadata": {},
   "outputs": [
    {
     "name": "stdout",
     "output_type": "stream",
     "text": [
      "Seed: 89032\n",
      "Files found inside /home/denis/rai-robotModels/robocasa/rai_jointed/fixtures/sinks: 10\n",
      "/home/denis/rai-robotModels/robocasa/rai_jointed/fixtures/sinks/white_sink/joint_scene.g\n"
     ]
    }
   ],
   "source": [
    "C = generate_random_kitchen(seed=89032, root_path=\"/home/denis/rai-robotModels/robocasa/\")\n",
    "frame_names = C.getFrameNames()\n",
    "features[\"qItself\"][1] = len(C.getJointState())\n",
    "object_frames = []\n",
    "with open(\"random_objs.g\", 'r', encoding='utf-8') as file:\n",
    "    for line in file:\n",
    "        words = line.strip().split()\n",
    "        if words:  # Ensure the line is not empty\n",
    "            object_frames.append(words[0])\n",
    "C = load_single_from_type(C, pos=[.5, 1., 1.2], root_path=f\"/home/denis/rai-robotModels/robocasa/rai_jointed/fixtures/sinks\")\n",
    "\n",
    "import time\n",
    "np.random.seed(int(time.time()))"
   ]
  },
  {
   "cell_type": "markdown",
   "metadata": {},
   "source": [
    "## Generate KOMO texts"
   ]
  },
  {
   "cell_type": "code",
   "execution_count": 3,
   "metadata": {},
   "outputs": [],
   "source": [
    "# Special Features (for pure random KOMOs)\n",
    "lucky_frames = [\"r_gripper\", \"r_palm\"]\n",
    "lucky_features = [\"positionDiff\", \"position\", \"vectorX\", \"vectorY\", \"vectorZ\", \"quaternion\", \"negDistance\"]\n",
    "\n",
    "# Special Features (for random manipulation KOMOs)\n",
    "end_effector_frames = [\"r_gripper\", \"l_gripper\"]\n",
    "mobile_base_frames = [\"omnibase\"]\n",
    "# object_frames = [\"kebabs_8\", \"can_6\", \"pizza_cutter_2\", \"bell_pepper_0\", \"kebabs_13\"]  # Frames that are not attached to anything that can be manipulated with basic pick, place, push, etc.\n",
    "joint_frames = [\"spout_joint\", \"handle_joint\"]\n",
    "jointed_frames = [\"spout_visual0\", \"handle_visual0\"]  # Frames that have a parent / grandparent / great-grandparent / etc. that is a joint (Not including robot)\n",
    "world_attach_frames = [\"floor\"]  # Like table in manipulation.py, some sort of world frame that tells us the world rotation and for us to place stuff after a mode switch."
   ]
  },
  {
   "cell_type": "code",
   "execution_count": 4,
   "metadata": {},
   "outputs": [],
   "source": [
    "# komo_generator = lambda: generate_random_komo(frame_names, features, lucky_frames, lucky_features, prob_mode_switch=0)\n",
    "komo_generator = lambda: generate_random_pick(end_effector_frames,\n",
    "                                              object_frames,\n",
    "                                              world_attach_frames,\n",
    "                                              frame_names,\n",
    "                                              drop_prob=0,\n",
    "                                              specific_orientation_prob=0,\n",
    "                                              hard_grasp_prob=.1,\n",
    "                                              specific_place_prob=0,\n",
    "                                              place_prob=1,\n",
    "                                              endeff_pass_prob=1,\n",
    "                                              repeat_pass_prob=1,\n",
    "                                              accumulated_collisions=False)\n",
    "# komo_generator = lambda: generate_random_pivot(end_effector_frames, jointed_frames, joint_frames, slices=8)\n",
    "# def komo_generator():\n",
    "#     if np.random.random() < .5:\n",
    "#         text = generate_random_pivot(end_effector_frames, jointed_frames, joint_frames, slices=8)\n",
    "#     else:\n",
    "#         text = generate_random_pick(end_effector_frames,\n",
    "#                                     object_frames,\n",
    "#                                     world_attach_frames,\n",
    "#                                     frame_names,\n",
    "#                                     drop_prob=0,\n",
    "#                                     specific_orientation_prob=.3,\n",
    "#                                     specific_place_prob=.1,\n",
    "#                                     place_prob=1)\n",
    "#     return text"
   ]
  },
  {
   "cell_type": "code",
   "execution_count": 5,
   "metadata": {},
   "outputs": [
    {
     "name": "stdout",
     "output_type": "stream",
     "text": [
      "# Pick object bagel_8 with endeffector r_gripper and place it on top of floor.\n",
      "# Follow the endeff pass sequence: r_gripper, l_gripper, r_gripper, l_gripper, r_gripper, l_gripper, r_gripper, l_gripper, r_gripper.\n",
      "komo = ry.KOMO(C, 11, 1, 2, False)\n",
      "komo.addControlObjective([], 0, 1e-1)\n",
      "komo.addControlObjective([], 1, 1e-1)\n",
      "komo.addControlObjective([], 2, 1e0)\n",
      "komo.addObjective([], ry.FS.jointLimits, [], ry.OT.ineq)\n",
      "komo.addObjective([], ry.FS.position, ['omnibase'], ry.OT.sos, [1e0], [], 1)\n",
      "komo.addObjective([1], ry.FS.negDistance, ['r_gripper', 'bagel_8'], ry.OT.eq, [1e1], [0.001])\n",
      "komo.addModeSwitch([1, 2], ry.SY.stable, ['r_gripper', 'bagel_8'], True)\n",
      "komo.addObjective([2], ry.FS.negDistance, ['l_gripper', 'bagel_8'], ry.OT.eq, [1e1], [0.031])\n",
      "komo.addModeSwitch([2, 3], ry.SY.stable, ['l_gripper', 'bagel_8'], False)\n",
      "komo.addObjective([3], ry.FS.negDistance, ['r_gripper', 'bagel_8'], ry.OT.eq, [1e1], [0.025])\n",
      "komo.addModeSwitch([3, 4], ry.SY.stable, ['r_gripper', 'bagel_8'], False)\n",
      "komo.addObjective([4], ry.FS.positionDiff, ['l_gripper', 'bagel_8'], ry.OT.eq, [1e1])\n",
      "komo.addModeSwitch([4, 5], ry.SY.stable, ['l_gripper', 'bagel_8'], False)\n",
      "komo.addObjective([5], ry.FS.negDistance, ['r_gripper', 'bagel_8'], ry.OT.eq, [1e1], [0.042])\n",
      "komo.addModeSwitch([5, 6], ry.SY.stable, ['r_gripper', 'bagel_8'], False)\n",
      "komo.addObjective([6], ry.FS.negDistance, ['l_gripper', 'bagel_8'], ry.OT.eq, [1e1], [0.048])\n",
      "komo.addModeSwitch([6, 7], ry.SY.stable, ['l_gripper', 'bagel_8'], False)\n",
      "komo.addObjective([7], ry.FS.negDistance, ['r_gripper', 'bagel_8'], ry.OT.eq, [1e1], [0.043])\n",
      "komo.addModeSwitch([7, 8], ry.SY.stable, ['r_gripper', 'bagel_8'], False)\n",
      "komo.addObjective([8], ry.FS.negDistance, ['l_gripper', 'bagel_8'], ry.OT.eq, [1e1], [0.017])\n",
      "komo.addModeSwitch([8, 9], ry.SY.stable, ['l_gripper', 'bagel_8'], False)\n",
      "komo.addObjective([9], ry.FS.negDistance, ['r_gripper', 'bagel_8'], ry.OT.eq, [1e1], [0.003])\n",
      "komo.addModeSwitch([9, 10], ry.SY.stable, ['r_gripper', 'bagel_8'], False)\n",
      "komo.addObjective([10], ry.FS.positionRel, ['floor', 'bagel_8'], ry.OT.ineq, [0, 0, -1e1])\n",
      "komo.addObjective([10], ry.FS.negDistance, ['floor', 'bagel_8'], ry.OT.ineq, [-1e1], [-0.076])\n",
      "komo.addObjective([10], ry.FS.negDistance, ['floor', 'bagel_8'], ry.OT.ineq, [1e1], [0])\n",
      "komo.addObjective([10], ry.FS.positionRel, ['bagel_8', 'floor'], ry.OT.ineq, [1e1, 1e1, 0], [0.243, 0.243, 0])\n",
      "komo.addObjective([10], ry.FS.positionRel, ['bagel_8', 'floor'], ry.OT.ineq, [-1e1, -1e1, 0], [-0.243, -0.243, 0])\n",
      "komo.addObjective([10], ry.FS.vectorYDiff, ['bagel_8', 'floor'], ry.OT.eq, [1e1])\n",
      "komo.addModeSwitch([10, 11], ry.SY.stable, ['floor', 'bagel_8'], False)\n",
      "\n",
      "# Pick object butter_stick_1 with endeffector l_gripper and place it on top of cameraTop.\n",
      "# Follow the endeff pass sequence: l_gripper, r_gripper, l_gripper, r_gripper, l_gripper, r_gripper, l_gripper, r_gripper, l_gripper.\n",
      "komo = ry.KOMO(C, 10, 1, 2, False)\n",
      "komo.addControlObjective([], 0, 1e-1)\n",
      "komo.addControlObjective([], 1, 1e-1)\n",
      "komo.addControlObjective([], 2, 1e0)\n",
      "komo.addObjective([], ry.FS.jointLimits, [], ry.OT.ineq)\n",
      "komo.addObjective([], ry.FS.position, ['omnibase'], ry.OT.sos, [1e0], [], 1)\n",
      "komo.addObjective([1], ry.FS.negDistance, ['l_gripper', 'butter_stick_1'], ry.OT.eq, [1e1], [0.016])\n",
      "komo.addModeSwitch([1, 2], ry.SY.stable, ['l_gripper', 'butter_stick_1'], True)\n",
      "komo.addObjective([2], ry.FS.negDistance, ['r_gripper', 'butter_stick_1'], ry.OT.eq, [1e1], [0.015])\n",
      "komo.addModeSwitch([2, 3], ry.SY.stable, ['r_gripper', 'butter_stick_1'], False)\n",
      "komo.addObjective([3], ry.FS.negDistance, ['l_gripper', 'butter_stick_1'], ry.OT.eq, [1e1], [0.016])\n",
      "komo.addModeSwitch([3, 4], ry.SY.stable, ['l_gripper', 'butter_stick_1'], False)\n",
      "komo.addObjective([4], ry.FS.negDistance, ['r_gripper', 'butter_stick_1'], ry.OT.eq, [1e1], [0.029])\n",
      "komo.addModeSwitch([4, 5], ry.SY.stable, ['r_gripper', 'butter_stick_1'], False)\n",
      "komo.addObjective([5], ry.FS.negDistance, ['l_gripper', 'butter_stick_1'], ry.OT.eq, [1e1], [0.018])\n",
      "komo.addModeSwitch([5, 6], ry.SY.stable, ['l_gripper', 'butter_stick_1'], False)\n",
      "komo.addObjective([6], ry.FS.negDistance, ['r_gripper', 'butter_stick_1'], ry.OT.eq, [1e1], [0.04])\n",
      "komo.addModeSwitch([6, 7], ry.SY.stable, ['r_gripper', 'butter_stick_1'], False)\n",
      "komo.addObjective([7], ry.FS.negDistance, ['l_gripper', 'butter_stick_1'], ry.OT.eq, [1e1], [0.048])\n",
      "komo.addModeSwitch([7, 8], ry.SY.stable, ['l_gripper', 'butter_stick_1'], False)\n",
      "komo.addObjective([8], ry.FS.negDistance, ['r_gripper', 'butter_stick_1'], ry.OT.eq, [1e1], [0.033])\n",
      "komo.addModeSwitch([8, 9], ry.SY.stable, ['r_gripper', 'butter_stick_1'], False)\n",
      "komo.addObjective([9], ry.FS.negDistance, ['l_gripper', 'butter_stick_1'], ry.OT.eq, [1e1], [0.025])\n",
      "komo.addModeSwitch([9, 10], ry.SY.stable, ['l_gripper', 'butter_stick_1'], False)\n",
      "komo.addObjective([10], ry.FS.positionRel, ['cameraTop', 'butter_stick_1'], ry.OT.ineq, [0, 0, -1e1])\n",
      "komo.addObjective([10], ry.FS.negDistance, ['cameraTop', 'butter_stick_1'], ry.OT.ineq, [-1e1], [-0.025])\n",
      "komo.addObjective([10], ry.FS.negDistance, ['cameraTop', 'butter_stick_1'], ry.OT.ineq, [1e1], [0])\n",
      "komo.addObjective([10], ry.FS.positionDiff, ['butter_stick_1', 'cameraTop'], ry.OT.ineq, [1e1, 1e1, 0], [0.004, 0.004, 0])\n",
      "komo.addObjective([10], ry.FS.positionDiff, ['butter_stick_1', 'cameraTop'], ry.OT.ineq, [-1e1, -1e1, 0], [-0.004, -0.004, 0])\n",
      "\n",
      "# Pick object cheese_6 with endeffector l_gripper and place it on top of omnibase_battery.\n",
      "# Follow the endeff pass sequence: l_gripper, r_gripper, l_gripper, r_gripper, l_gripper, r_gripper, l_gripper, r_gripper.\n",
      "komo = ry.KOMO(C, 9, 1, 2, False)\n",
      "komo.addControlObjective([], 0, 1e-1)\n",
      "komo.addControlObjective([], 1, 1e-1)\n",
      "komo.addControlObjective([], 2, 1e0)\n",
      "komo.addObjective([], ry.FS.jointLimits, [], ry.OT.ineq)\n",
      "komo.addObjective([], ry.FS.position, ['omnibase'], ry.OT.sos, [1e0], [], 1)\n",
      "komo.addObjective([1], ry.FS.negDistance, ['l_gripper', 'cheese_6'], ry.OT.eq, [1e1], [0.02])\n",
      "komo.addModeSwitch([1, 2], ry.SY.stable, ['l_gripper', 'cheese_6'], True)\n",
      "komo.addObjective([2], ry.FS.negDistance, ['r_gripper', 'cheese_6'], ry.OT.eq, [1e1], [0.037])\n",
      "komo.addModeSwitch([2, 3], ry.SY.stable, ['r_gripper', 'cheese_6'], False)\n",
      "komo.addObjective([3], ry.FS.negDistance, ['l_gripper', 'cheese_6'], ry.OT.eq, [1e1], [0.042])\n",
      "komo.addModeSwitch([3, 4], ry.SY.stable, ['l_gripper', 'cheese_6'], False)\n",
      "komo.addObjective([4], ry.FS.negDistance, ['r_gripper', 'cheese_6'], ry.OT.eq, [1e1], [0.025])\n",
      "komo.addModeSwitch([4, 5], ry.SY.stable, ['r_gripper', 'cheese_6'], False)\n",
      "komo.addObjective([5], ry.FS.negDistance, ['l_gripper', 'cheese_6'], ry.OT.eq, [1e1], [0.009])\n",
      "komo.addModeSwitch([5, 6], ry.SY.stable, ['l_gripper', 'cheese_6'], False)\n",
      "komo.addObjective([6], ry.FS.negDistance, ['r_gripper', 'cheese_6'], ry.OT.eq, [1e1], [0.042])\n",
      "komo.addModeSwitch([6, 7], ry.SY.stable, ['r_gripper', 'cheese_6'], False)\n",
      "komo.addObjective([7], ry.FS.negDistance, ['l_gripper', 'cheese_6'], ry.OT.eq, [1e1], [0.045])\n",
      "komo.addModeSwitch([7, 8], ry.SY.stable, ['l_gripper', 'cheese_6'], False)\n",
      "komo.addObjective([8], ry.FS.negDistance, ['r_gripper', 'cheese_6'], ry.OT.eq, [1e1], [0.004])\n",
      "komo.addModeSwitch([8, 9], ry.SY.stable, ['r_gripper', 'cheese_6'], False)\n",
      "komo.addObjective([9], ry.FS.positionRel, ['omnibase_battery', 'cheese_6'], ry.OT.ineq, [0, 0, -1e1])\n",
      "komo.addObjective([9], ry.FS.negDistance, ['omnibase_battery', 'cheese_6'], ry.OT.ineq, [-1e1], [-0.045])\n",
      "komo.addObjective([9], ry.FS.negDistance, ['omnibase_battery', 'cheese_6'], ry.OT.ineq, [1e1], [0])\n",
      "komo.addObjective([9], ry.FS.positionDiff, ['cheese_6', 'omnibase_battery'], ry.OT.ineq, [1e1, 1e1, 0], [0.104, 0.104, 0])\n",
      "komo.addObjective([9], ry.FS.positionDiff, ['cheese_6', 'omnibase_battery'], ry.OT.ineq, [-1e1, -1e1, 0], [-0.104, -0.104, 0])\n",
      "\n",
      "# Pick object alcohol_5 with endeffector l_gripper and place it on top of counter.\n",
      "# Follow the endeff pass sequence: l_gripper, r_gripper, l_gripper, r_gripper, l_gripper, r_gripper, l_gripper, r_gripper, l_gripper, r_gripper, l_gripper.\n",
      "komo = ry.KOMO(C, 12, 1, 2, False)\n",
      "komo.addControlObjective([], 0, 1e-1)\n",
      "komo.addControlObjective([], 1, 1e-1)\n",
      "komo.addControlObjective([], 2, 1e0)\n",
      "komo.addObjective([], ry.FS.jointLimits, [], ry.OT.ineq)\n",
      "komo.addObjective([], ry.FS.position, ['omnibase'], ry.OT.sos, [1e0], [], 1)\n",
      "komo.addObjective([1], ry.FS.negDistance, ['l_gripper', 'alcohol_5'], ry.OT.eq, [1e1], [0.038])\n",
      "komo.addModeSwitch([1, 2], ry.SY.stable, ['l_gripper', 'alcohol_5'], True)\n",
      "komo.addObjective([2], ry.FS.negDistance, ['r_gripper', 'alcohol_5'], ry.OT.eq, [1e1], [0.044])\n",
      "komo.addModeSwitch([2, 3], ry.SY.stable, ['r_gripper', 'alcohol_5'], False)\n",
      "komo.addObjective([3], ry.FS.negDistance, ['l_gripper', 'alcohol_5'], ry.OT.eq, [1e1], [0.016])\n",
      "komo.addModeSwitch([3, 4], ry.SY.stable, ['l_gripper', 'alcohol_5'], False)\n",
      "komo.addObjective([4], ry.FS.negDistance, ['r_gripper', 'alcohol_5'], ry.OT.eq, [1e1], [0.012])\n",
      "komo.addModeSwitch([4, 5], ry.SY.stable, ['r_gripper', 'alcohol_5'], False)\n",
      "komo.addObjective([5], ry.FS.negDistance, ['l_gripper', 'alcohol_5'], ry.OT.eq, [1e1], [0.028])\n",
      "komo.addModeSwitch([5, 6], ry.SY.stable, ['l_gripper', 'alcohol_5'], False)\n",
      "komo.addObjective([6], ry.FS.negDistance, ['r_gripper', 'alcohol_5'], ry.OT.eq, [1e1], [0.044])\n",
      "komo.addModeSwitch([6, 7], ry.SY.stable, ['r_gripper', 'alcohol_5'], False)\n",
      "komo.addObjective([7], ry.FS.negDistance, ['l_gripper', 'alcohol_5'], ry.OT.eq, [1e1], [0.04])\n",
      "komo.addModeSwitch([7, 8], ry.SY.stable, ['l_gripper', 'alcohol_5'], False)\n",
      "komo.addObjective([8], ry.FS.negDistance, ['r_gripper', 'alcohol_5'], ry.OT.eq, [1e1], [0.045])\n",
      "komo.addModeSwitch([8, 9], ry.SY.stable, ['r_gripper', 'alcohol_5'], False)\n",
      "komo.addObjective([9], ry.FS.positionDiff, ['l_gripper', 'alcohol_5'], ry.OT.eq, [1e1])\n",
      "komo.addModeSwitch([9, 10], ry.SY.stable, ['l_gripper', 'alcohol_5'], False)\n",
      "komo.addObjective([10], ry.FS.positionDiff, ['r_gripper', 'alcohol_5'], ry.OT.eq, [1e1])\n",
      "komo.addModeSwitch([10, 11], ry.SY.stable, ['r_gripper', 'alcohol_5'], False)\n",
      "komo.addObjective([11], ry.FS.negDistance, ['l_gripper', 'alcohol_5'], ry.OT.eq, [1e1], [0.038])\n",
      "komo.addModeSwitch([11, 12], ry.SY.stable, ['l_gripper', 'alcohol_5'], False)\n",
      "komo.addObjective([12], ry.FS.positionRel, ['counter', 'alcohol_5'], ry.OT.ineq, [0, 0, -1e1])\n",
      "komo.addObjective([12], ry.FS.negDistance, ['counter', 'alcohol_5'], ry.OT.ineq, [-1e1], [-0.021])\n",
      "komo.addObjective([12], ry.FS.negDistance, ['counter', 'alcohol_5'], ry.OT.ineq, [1e1], [0])\n",
      "komo.addObjective([12], ry.FS.positionRel, ['alcohol_5', 'counter'], ry.OT.ineq, [1e1, 1e1, 0], [0.087, 0.087, 0])\n",
      "komo.addObjective([12], ry.FS.positionRel, ['alcohol_5', 'counter'], ry.OT.ineq, [-1e1, -1e1, 0], [-0.087, -0.087, 0])\n",
      "\n",
      "# Pick object alcohol_5 with endeffector r_gripper and place it on top of cameraWrist.\n",
      "# Follow the endeff pass sequence: r_gripper, l_gripper, r_gripper, l_gripper, r_gripper, l_gripper, r_gripper, l_gripper.\n",
      "komo = ry.KOMO(C, 9, 1, 2, False)\n",
      "komo.addControlObjective([], 0, 1e-1)\n",
      "komo.addControlObjective([], 1, 1e-1)\n",
      "komo.addControlObjective([], 2, 1e0)\n",
      "komo.addObjective([], ry.FS.jointLimits, [], ry.OT.ineq)\n",
      "komo.addObjective([], ry.FS.position, ['omnibase'], ry.OT.sos, [1e0], [], 1)\n",
      "komo.addObjective([1], ry.FS.negDistance, ['r_gripper', 'alcohol_5'], ry.OT.eq, [1e1], [0.006])\n",
      "komo.addModeSwitch([1, 2], ry.SY.stable, ['r_gripper', 'alcohol_5'], True)\n",
      "komo.addObjective([2], ry.FS.negDistance, ['l_gripper', 'alcohol_5'], ry.OT.eq, [1e1], [0.037])\n",
      "komo.addModeSwitch([2, 3], ry.SY.stable, ['l_gripper', 'alcohol_5'], False)\n",
      "komo.addObjective([3], ry.FS.positionDiff, ['r_gripper', 'alcohol_5'], ry.OT.eq, [1e1])\n",
      "komo.addModeSwitch([3, 4], ry.SY.stable, ['r_gripper', 'alcohol_5'], False)\n",
      "komo.addObjective([4], ry.FS.negDistance, ['l_gripper', 'alcohol_5'], ry.OT.eq, [1e1], [0.043])\n",
      "komo.addModeSwitch([4, 5], ry.SY.stable, ['l_gripper', 'alcohol_5'], False)\n",
      "komo.addObjective([5], ry.FS.negDistance, ['r_gripper', 'alcohol_5'], ry.OT.eq, [1e1], [0.002])\n",
      "komo.addModeSwitch([5, 6], ry.SY.stable, ['r_gripper', 'alcohol_5'], False)\n",
      "komo.addObjective([6], ry.FS.negDistance, ['l_gripper', 'alcohol_5'], ry.OT.eq, [1e1], [0.006])\n",
      "komo.addModeSwitch([6, 7], ry.SY.stable, ['l_gripper', 'alcohol_5'], False)\n",
      "komo.addObjective([7], ry.FS.negDistance, ['r_gripper', 'alcohol_5'], ry.OT.eq, [1e1], [0.004])\n",
      "komo.addModeSwitch([7, 8], ry.SY.stable, ['r_gripper', 'alcohol_5'], False)\n",
      "komo.addObjective([8], ry.FS.negDistance, ['l_gripper', 'alcohol_5'], ry.OT.eq, [1e1], [0.022])\n",
      "komo.addModeSwitch([8, 9], ry.SY.stable, ['l_gripper', 'alcohol_5'], False)\n",
      "komo.addObjective([9], ry.FS.positionRel, ['cameraWrist', 'alcohol_5'], ry.OT.ineq, [0, 0, -1e1])\n",
      "komo.addObjective([9], ry.FS.negDistance, ['cameraWrist', 'alcohol_5'], ry.OT.ineq, [-1e1], [-0.077])\n",
      "komo.addObjective([9], ry.FS.negDistance, ['cameraWrist', 'alcohol_5'], ry.OT.ineq, [1e1], [0])\n",
      "komo.addObjective([9], ry.FS.positionDiff, ['alcohol_5', 'cameraWrist'], ry.OT.ineq, [1e1, 1e1, 0], [0.229, 0.229, 0])\n",
      "komo.addObjective([9], ry.FS.positionDiff, ['alcohol_5', 'cameraWrist'], ry.OT.ineq, [-1e1, -1e1, 0], [-0.229, -0.229, 0])\n",
      "\n",
      "# Pick object bagel_8 with endeffector l_gripper and place it on top of omnibase.\n",
      "# Follow the endeff pass sequence: l_gripper, r_gripper, l_gripper, r_gripper, l_gripper, r_gripper.\n",
      "komo = ry.KOMO(C, 7, 1, 2, False)\n",
      "komo.addControlObjective([], 0, 1e-1)\n",
      "komo.addControlObjective([], 1, 1e-1)\n",
      "komo.addControlObjective([], 2, 1e0)\n",
      "komo.addObjective([], ry.FS.jointLimits, [], ry.OT.ineq)\n",
      "komo.addObjective([], ry.FS.position, ['omnibase'], ry.OT.sos, [1e0], [], 1)\n",
      "komo.addObjective([1], ry.FS.negDistance, ['l_gripper', 'bagel_8'], ry.OT.eq, [1e1], [0.049])\n",
      "komo.addModeSwitch([1, 2], ry.SY.stable, ['l_gripper', 'bagel_8'], True)\n",
      "komo.addObjective([2], ry.FS.positionDiff, ['r_gripper', 'bagel_8'], ry.OT.eq, [1e1])\n",
      "komo.addModeSwitch([2, 3], ry.SY.stable, ['r_gripper', 'bagel_8'], False)\n",
      "komo.addObjective([3], ry.FS.negDistance, ['l_gripper', 'bagel_8'], ry.OT.eq, [1e1], [0.038])\n",
      "komo.addModeSwitch([3, 4], ry.SY.stable, ['l_gripper', 'bagel_8'], False)\n",
      "komo.addObjective([4], ry.FS.negDistance, ['r_gripper', 'bagel_8'], ry.OT.eq, [1e1], [0.043])\n",
      "komo.addModeSwitch([4, 5], ry.SY.stable, ['r_gripper', 'bagel_8'], False)\n",
      "komo.addObjective([5], ry.FS.negDistance, ['l_gripper', 'bagel_8'], ry.OT.eq, [1e1], [0.0])\n",
      "komo.addModeSwitch([5, 6], ry.SY.stable, ['l_gripper', 'bagel_8'], False)\n",
      "komo.addObjective([6], ry.FS.negDistance, ['r_gripper', 'bagel_8'], ry.OT.eq, [1e1], [0.036])\n",
      "komo.addModeSwitch([6, 7], ry.SY.stable, ['r_gripper', 'bagel_8'], False)\n",
      "komo.addObjective([7], ry.FS.positionRel, ['omnibase', 'bagel_8'], ry.OT.ineq, [0, 0, -1e1])\n",
      "komo.addObjective([7], ry.FS.negDistance, ['omnibase', 'bagel_8'], ry.OT.ineq, [-1e1], [-0.015])\n",
      "komo.addObjective([7], ry.FS.negDistance, ['omnibase', 'bagel_8'], ry.OT.ineq, [1e1], [0])\n",
      "komo.addObjective([7], ry.FS.positionDiff, ['bagel_8', 'omnibase'], ry.OT.ineq, [1e1, 1e1, 0], [0.101, 0.101, 0])\n",
      "komo.addObjective([7], ry.FS.positionDiff, ['bagel_8', 'omnibase'], ry.OT.ineq, [-1e1, -1e1, 0], [-0.101, -0.101, 0])\n",
      "\n",
      "# Pick object alcohol_5 with endeffector l_gripper and place it on top of omnibase_frame.\n",
      "# Follow the endeff pass sequence: l_gripper, r_gripper, l_gripper, r_gripper, l_gripper, r_gripper, l_gripper, r_gripper, l_gripper, r_gripper.\n",
      "komo = ry.KOMO(C, 12, 1, 2, False)\n",
      "komo.addControlObjective([], 0, 1e-1)\n",
      "komo.addControlObjective([], 1, 1e-1)\n",
      "komo.addControlObjective([], 2, 1e0)\n",
      "komo.addObjective([], ry.FS.jointLimits, [], ry.OT.ineq)\n",
      "komo.addObjective([], ry.FS.position, ['omnibase'], ry.OT.sos, [1e0], [], 1)\n",
      "komo.addObjective([1], ry.FS.negDistance, ['l_gripper', 'alcohol_5'], ry.OT.eq, [1e1], [0.042])\n",
      "komo.addModeSwitch([1, 2], ry.SY.stable, ['l_gripper', 'alcohol_5'], True)\n",
      "komo.addObjective([2], ry.FS.negDistance, ['r_gripper', 'alcohol_5'], ry.OT.eq, [1e1], [0.009])\n",
      "komo.addModeSwitch([2, 3], ry.SY.stable, ['r_gripper', 'alcohol_5'], False)\n",
      "komo.addObjective([3], ry.FS.negDistance, ['l_gripper', 'alcohol_5'], ry.OT.eq, [1e1], [0.028])\n",
      "komo.addModeSwitch([3, 4], ry.SY.stable, ['l_gripper', 'alcohol_5'], False)\n",
      "komo.addObjective([4], ry.FS.negDistance, ['r_gripper', 'alcohol_5'], ry.OT.eq, [1e1], [0.025])\n",
      "komo.addModeSwitch([4, 5], ry.SY.stable, ['r_gripper', 'alcohol_5'], False)\n",
      "komo.addObjective([5], ry.FS.negDistance, ['l_gripper', 'alcohol_5'], ry.OT.eq, [1e1], [0.001])\n",
      "komo.addModeSwitch([5, 6], ry.SY.stable, ['l_gripper', 'alcohol_5'], False)\n",
      "komo.addObjective([6], ry.FS.negDistance, ['r_gripper', 'alcohol_5'], ry.OT.eq, [1e1], [0.015])\n",
      "komo.addModeSwitch([6, 7], ry.SY.stable, ['r_gripper', 'alcohol_5'], False)\n",
      "komo.addObjective([7], ry.FS.negDistance, ['l_gripper', 'alcohol_5'], ry.OT.eq, [1e1], [0.004])\n",
      "komo.addModeSwitch([7, 8], ry.SY.stable, ['l_gripper', 'alcohol_5'], False)\n",
      "komo.addObjective([8], ry.FS.negDistance, ['r_gripper', 'alcohol_5'], ry.OT.eq, [1e1], [0.045])\n",
      "komo.addModeSwitch([8, 9], ry.SY.stable, ['r_gripper', 'alcohol_5'], False)\n",
      "komo.addObjective([9], ry.FS.negDistance, ['l_gripper', 'alcohol_5'], ry.OT.eq, [1e1], [0.029])\n",
      "komo.addModeSwitch([9, 10], ry.SY.stable, ['l_gripper', 'alcohol_5'], False)\n",
      "komo.addObjective([10], ry.FS.negDistance, ['r_gripper', 'alcohol_5'], ry.OT.eq, [1e1], [0.046])\n",
      "komo.addModeSwitch([10, 11], ry.SY.stable, ['r_gripper', 'alcohol_5'], False)\n",
      "komo.addObjective([11], ry.FS.positionRel, ['omnibase_frame', 'alcohol_5'], ry.OT.ineq, [0, 0, -1e1])\n",
      "komo.addObjective([11], ry.FS.negDistance, ['omnibase_frame', 'alcohol_5'], ry.OT.ineq, [-1e1], [-0.029])\n",
      "komo.addObjective([11], ry.FS.negDistance, ['omnibase_frame', 'alcohol_5'], ry.OT.ineq, [1e1], [0])\n",
      "komo.addObjective([11], ry.FS.positionRel, ['alcohol_5', 'omnibase_frame'], ry.OT.ineq, [1e1, 1e1, 0], [0.291, 0.291, 0])\n",
      "komo.addObjective([11], ry.FS.positionRel, ['alcohol_5', 'omnibase_frame'], ry.OT.ineq, [-1e1, -1e1, 0], [-0.291, -0.291, 0])\n",
      "komo.addObjective([11], ry.FS.vectorY, ['alcohol_5'], ry.OT.eq, [1e1], [0., 0., 1])\n",
      "komo.addModeSwitch([11, 12], ry.SY.stable, ['floor', 'alcohol_5'], False)\n",
      "\n",
      "# Pick object bagel_8 with endeffector l_gripper and place it on top of omnibase.\n",
      "# Follow the endeff pass sequence: l_gripper, r_gripper.\n",
      "komo = ry.KOMO(C, 4, 1, 2, False)\n",
      "komo.addControlObjective([], 0, 1e-1)\n",
      "komo.addControlObjective([], 1, 1e-1)\n",
      "komo.addControlObjective([], 2, 1e0)\n",
      "komo.addObjective([], ry.FS.jointLimits, [], ry.OT.ineq)\n",
      "komo.addObjective([], ry.FS.position, ['omnibase'], ry.OT.sos, [1e0], [], 1)\n",
      "komo.addObjective([1], ry.FS.negDistance, ['l_gripper', 'bagel_8'], ry.OT.eq, [1e1], [0.028])\n",
      "komo.addModeSwitch([1, 2], ry.SY.stable, ['l_gripper', 'bagel_8'], True)\n",
      "komo.addObjective([2], ry.FS.negDistance, ['r_gripper', 'bagel_8'], ry.OT.eq, [1e1], [0.012])\n",
      "komo.addModeSwitch([2, 3], ry.SY.stable, ['r_gripper', 'bagel_8'], False)\n",
      "komo.addObjective([3], ry.FS.positionRel, ['omnibase', 'bagel_8'], ry.OT.ineq, [0, 0, -1e1])\n",
      "komo.addObjective([3], ry.FS.negDistance, ['omnibase', 'bagel_8'], ry.OT.ineq, [-1e1], [-0.052])\n",
      "komo.addObjective([3], ry.FS.negDistance, ['omnibase', 'bagel_8'], ry.OT.ineq, [1e1], [0])\n",
      "komo.addObjective([3], ry.FS.positionRel, ['bagel_8', 'omnibase'], ry.OT.ineq, [1e1, 1e1, 0], [0.093, 0.093, 0])\n",
      "komo.addObjective([3], ry.FS.positionRel, ['bagel_8', 'omnibase'], ry.OT.ineq, [-1e1, -1e1, 0], [-0.093, -0.093, 0])\n",
      "komo.addModeSwitch([3, 4], ry.SY.stable, ['floor', 'bagel_8'], False)\n",
      "\n",
      "# Pick object butter_stick_1 with endeffector r_gripper and place it on top of omnibase_world.\n",
      "# Follow the endeff pass sequence: r_gripper, l_gripper, r_gripper, l_gripper, r_gripper, l_gripper, r_gripper, l_gripper, r_gripper, l_gripper, r_gripper.\n",
      "komo = ry.KOMO(C, 12, 1, 2, False)\n",
      "komo.addControlObjective([], 0, 1e-1)\n",
      "komo.addControlObjective([], 1, 1e-1)\n",
      "komo.addControlObjective([], 2, 1e0)\n",
      "komo.addObjective([], ry.FS.jointLimits, [], ry.OT.ineq)\n",
      "komo.addObjective([], ry.FS.position, ['omnibase'], ry.OT.sos, [1e0], [], 1)\n",
      "komo.addObjective([1], ry.FS.negDistance, ['r_gripper', 'butter_stick_1'], ry.OT.eq, [1e1], [0.027])\n",
      "komo.addModeSwitch([1, 2], ry.SY.stable, ['r_gripper', 'butter_stick_1'], True)\n",
      "komo.addObjective([2], ry.FS.negDistance, ['l_gripper', 'butter_stick_1'], ry.OT.eq, [1e1], [0.027])\n",
      "komo.addModeSwitch([2, 3], ry.SY.stable, ['l_gripper', 'butter_stick_1'], False)\n",
      "komo.addObjective([3], ry.FS.negDistance, ['r_gripper', 'butter_stick_1'], ry.OT.eq, [1e1], [0.024])\n",
      "komo.addModeSwitch([3, 4], ry.SY.stable, ['r_gripper', 'butter_stick_1'], False)\n",
      "komo.addObjective([4], ry.FS.negDistance, ['l_gripper', 'butter_stick_1'], ry.OT.eq, [1e1], [0.002])\n",
      "komo.addModeSwitch([4, 5], ry.SY.stable, ['l_gripper', 'butter_stick_1'], False)\n",
      "komo.addObjective([5], ry.FS.positionDiff, ['r_gripper', 'butter_stick_1'], ry.OT.eq, [1e1])\n",
      "komo.addModeSwitch([5, 6], ry.SY.stable, ['r_gripper', 'butter_stick_1'], False)\n",
      "komo.addObjective([6], ry.FS.negDistance, ['l_gripper', 'butter_stick_1'], ry.OT.eq, [1e1], [0.007])\n",
      "komo.addModeSwitch([6, 7], ry.SY.stable, ['l_gripper', 'butter_stick_1'], False)\n",
      "komo.addObjective([7], ry.FS.negDistance, ['r_gripper', 'butter_stick_1'], ry.OT.eq, [1e1], [0.029])\n",
      "komo.addModeSwitch([7, 8], ry.SY.stable, ['r_gripper', 'butter_stick_1'], False)\n",
      "komo.addObjective([8], ry.FS.negDistance, ['l_gripper', 'butter_stick_1'], ry.OT.eq, [1e1], [0.048])\n",
      "komo.addModeSwitch([8, 9], ry.SY.stable, ['l_gripper', 'butter_stick_1'], False)\n",
      "komo.addObjective([9], ry.FS.positionDiff, ['r_gripper', 'butter_stick_1'], ry.OT.eq, [1e1])\n",
      "komo.addModeSwitch([9, 10], ry.SY.stable, ['r_gripper', 'butter_stick_1'], False)\n",
      "komo.addObjective([10], ry.FS.negDistance, ['l_gripper', 'butter_stick_1'], ry.OT.eq, [1e1], [0.015])\n",
      "komo.addModeSwitch([10, 11], ry.SY.stable, ['l_gripper', 'butter_stick_1'], False)\n",
      "komo.addObjective([11], ry.FS.negDistance, ['r_gripper', 'butter_stick_1'], ry.OT.eq, [1e1], [0.029])\n",
      "komo.addModeSwitch([11, 12], ry.SY.stable, ['r_gripper', 'butter_stick_1'], False)\n",
      "komo.addObjective([12], ry.FS.positionRel, ['omnibase_world', 'butter_stick_1'], ry.OT.ineq, [0, 0, -1e1])\n",
      "komo.addObjective([12], ry.FS.negDistance, ['omnibase_world', 'butter_stick_1'], ry.OT.ineq, [-1e1], [-0.057])\n",
      "komo.addObjective([12], ry.FS.negDistance, ['omnibase_world', 'butter_stick_1'], ry.OT.ineq, [1e1], [0])\n",
      "komo.addObjective([12], ry.FS.positionRel, ['butter_stick_1', 'omnibase_world'], ry.OT.ineq, [1e1, 1e1, 0], [0.294, 0.294, 0])\n",
      "komo.addObjective([12], ry.FS.positionRel, ['butter_stick_1', 'omnibase_world'], ry.OT.ineq, [-1e1, -1e1, 0], [-0.294, -0.294, 0])\n",
      "\n",
      "# Pick object beet_10 with endeffector l_gripper and place it on top of counter_sink.\n",
      "# Follow the endeff pass sequence: l_gripper, r_gripper, l_gripper, r_gripper, l_gripper.\n",
      "komo = ry.KOMO(C, 6, 1, 2, False)\n",
      "komo.addControlObjective([], 0, 1e-1)\n",
      "komo.addControlObjective([], 1, 1e-1)\n",
      "komo.addControlObjective([], 2, 1e0)\n",
      "komo.addObjective([], ry.FS.jointLimits, [], ry.OT.ineq)\n",
      "komo.addObjective([], ry.FS.position, ['omnibase'], ry.OT.sos, [1e0], [], 1)\n",
      "komo.addObjective([1], ry.FS.negDistance, ['l_gripper', 'beet_10'], ry.OT.eq, [1e1], [0.012])\n",
      "komo.addModeSwitch([1, 2], ry.SY.stable, ['l_gripper', 'beet_10'], True)\n",
      "komo.addObjective([2], ry.FS.positionDiff, ['r_gripper', 'beet_10'], ry.OT.eq, [1e1])\n",
      "komo.addModeSwitch([2, 3], ry.SY.stable, ['r_gripper', 'beet_10'], False)\n",
      "komo.addObjective([3], ry.FS.negDistance, ['l_gripper', 'beet_10'], ry.OT.eq, [1e1], [0.046])\n",
      "komo.addModeSwitch([3, 4], ry.SY.stable, ['l_gripper', 'beet_10'], False)\n",
      "komo.addObjective([4], ry.FS.negDistance, ['r_gripper', 'beet_10'], ry.OT.eq, [1e1], [0.044])\n",
      "komo.addModeSwitch([4, 5], ry.SY.stable, ['r_gripper', 'beet_10'], False)\n",
      "komo.addObjective([5], ry.FS.negDistance, ['l_gripper', 'beet_10'], ry.OT.eq, [1e1], [0.046])\n",
      "komo.addModeSwitch([5, 6], ry.SY.stable, ['l_gripper', 'beet_10'], False)\n",
      "komo.addObjective([6], ry.FS.positionRel, ['counter_sink', 'beet_10'], ry.OT.ineq, [0, 0, -1e1])\n",
      "komo.addObjective([6], ry.FS.negDistance, ['counter_sink', 'beet_10'], ry.OT.ineq, [-1e1], [-0.095])\n",
      "komo.addObjective([6], ry.FS.negDistance, ['counter_sink', 'beet_10'], ry.OT.ineq, [1e1], [0])\n",
      "komo.addObjective([6], ry.FS.positionRel, ['beet_10', 'counter_sink'], ry.OT.ineq, [1e1, 1e1, 0], [0.182, 0.182, 0])\n",
      "komo.addObjective([6], ry.FS.positionRel, ['beet_10', 'counter_sink'], ry.OT.ineq, [-1e1, -1e1, 0], [-0.182, -0.182, 0])\n",
      "\n"
     ]
    }
   ],
   "source": [
    "for i in range(10):\n",
    "    komo_text = komo_generator()\n",
    "    print(komo_text)"
   ]
  },
  {
   "cell_type": "code",
   "execution_count": 6,
   "metadata": {},
   "outputs": [
    {
     "name": "stderr",
     "output_type": "stream",
     "text": [
      "100%|██████████| 1000/1000 [00:00<00:00, 9482.40it/s]\n"
     ]
    }
   ],
   "source": [
    "komo_samples = 1000\n",
    "\n",
    "outfolder = \"./komo_samples\"\n",
    "text_outfolder = os.path.join(outfolder, \"texts\")\n",
    "if not os.path.exists(text_outfolder):\n",
    "    os.makedirs(text_outfolder)\n",
    "else:\n",
    "    for file in os.listdir(text_outfolder):\n",
    "        file_path = os.path.join(text_outfolder, file)\n",
    "        os.remove(file_path)\n",
    "\n",
    "for i in tqdm(range(komo_samples)):\n",
    "    komo_text = komo_generator()\n",
    "    filename = os.path.join(text_outfolder, f\"komo{i}.txt\")\n",
    "    with open(filename, \"w\") as file:\n",
    "        file.write(komo_text)"
   ]
  },
  {
   "cell_type": "markdown",
   "metadata": {},
   "source": [
    "## Classify KOMO texts"
   ]
  },
  {
   "cell_type": "code",
   "execution_count": 7,
   "metadata": {},
   "outputs": [
    {
     "name": "stderr",
     "output_type": "stream",
     "text": [
      "  1%|          | 11/1000 [00:05<07:41,  2.14it/s]"
     ]
    },
    {
     "name": "stdout",
     "output_type": "stream",
     "text": [
      "-- pairCollision.cpp:libccd:365(0) WARNING: called MPR penetration for non intersecting meshes...\n",
      "-- pairCollision.cpp:libccd:370(0) WARNING: but GJK says intersection\n"
     ]
    },
    {
     "name": "stderr",
     "output_type": "stream",
     "text": [
      "  7%|▋         | 71/1000 [00:41<07:09,  2.16it/s]"
     ]
    },
    {
     "name": "stdout",
     "output_type": "stream",
     "text": [
      "-- pairCollision.cpp:libccd:365(0) WARNING: called MPR penetration for non intersecting meshes...\n",
      "-- pairCollision.cpp:libccd:370(0) WARNING: but GJK says intersection\n",
      "-- pairCollision.cpp:libccd:365(0) WARNING: called MPR penetration for non intersecting meshes...\n",
      "-- pairCollision.cpp:libccd:370(0) WARNING: but GJK says intersection\n"
     ]
    },
    {
     "name": "stderr",
     "output_type": "stream",
     "text": [
      " 10%|█         | 100/1000 [00:59<06:38,  2.26it/s]"
     ]
    },
    {
     "name": "stdout",
     "output_type": "stream",
     "text": [
      "Total feasible komos: 0\n",
      "Total error komos: 0\n",
      "Total komos: 100\n",
      "0.00% feasible\n"
     ]
    },
    {
     "name": "stderr",
     "output_type": "stream",
     "text": [
      " 13%|█▎        | 128/1000 [01:13<09:20,  1.56it/s]"
     ]
    },
    {
     "name": "stdout",
     "output_type": "stream",
     "text": [
      "-- pairCollision.cpp:libccd:365(0) WARNING: called MPR penetration for non intersecting meshes...\n",
      "-- pairCollision.cpp:libccd:370(0) WARNING: but GJK says intersection\n"
     ]
    },
    {
     "name": "stderr",
     "output_type": "stream",
     "text": [
      " 13%|█▎        | 132/1000 [01:16<09:50,  1.47it/s]"
     ]
    },
    {
     "name": "stdout",
     "output_type": "stream",
     "text": [
      "-- pairCollision.cpp:libccd:365(0) WARNING: called MPR penetration for non intersecting meshes...\n",
      "-- pairCollision.cpp:libccd:370(0) WARNING: but GJK says intersection\n"
     ]
    },
    {
     "name": "stderr",
     "output_type": "stream",
     "text": [
      " 18%|█▊        | 182/1000 [01:45<11:14,  1.21it/s]"
     ]
    },
    {
     "name": "stdout",
     "output_type": "stream",
     "text": [
      "-- pairCollision.cpp:libccd:365(0) WARNING: called MPR penetration for non intersecting meshes...\n",
      "-- pairCollision.cpp:libccd:370(0) WARNING: but GJK says intersection\n"
     ]
    },
    {
     "name": "stderr",
     "output_type": "stream",
     "text": [
      " 20%|██        | 201/1000 [01:55<06:09,  2.16it/s]"
     ]
    },
    {
     "name": "stdout",
     "output_type": "stream",
     "text": [
      "Total feasible komos: 0\n",
      "Total error komos: 0\n",
      "Total komos: 200\n",
      "0.00% feasible\n"
     ]
    },
    {
     "name": "stderr",
     "output_type": "stream",
     "text": [
      " 25%|██▌       | 253/1000 [02:23<09:07,  1.36it/s]"
     ]
    },
    {
     "name": "stdout",
     "output_type": "stream",
     "text": [
      "-- pairCollision.cpp:libccd:365(0) WARNING: called MPR penetration for non intersecting meshes...\n",
      "-- pairCollision.cpp:libccd:370(0) WARNING: but GJK says intersection\n"
     ]
    },
    {
     "name": "stderr",
     "output_type": "stream",
     "text": [
      " 27%|██▋       | 266/1000 [02:31<07:38,  1.60it/s]"
     ]
    },
    {
     "name": "stdout",
     "output_type": "stream",
     "text": [
      "-- pairCollision.cpp:libccd:365(0) WARNING: called MPR penetration for non intersecting meshes...\n",
      "-- pairCollision.cpp:libccd:370(0) WARNING: but GJK says intersection\n"
     ]
    },
    {
     "name": "stderr",
     "output_type": "stream",
     "text": [
      " 30%|███       | 301/1000 [02:49<05:13,  2.23it/s]"
     ]
    },
    {
     "name": "stdout",
     "output_type": "stream",
     "text": [
      "Total feasible komos: 0\n",
      "Total error komos: 0\n",
      "Total komos: 300\n",
      "0.00% feasible\n"
     ]
    },
    {
     "name": "stderr",
     "output_type": "stream",
     "text": [
      " 39%|███▉      | 392/1000 [03:34<04:59,  2.03it/s]"
     ]
    },
    {
     "name": "stdout",
     "output_type": "stream",
     "text": [
      "-- pairCollision.cpp:libccd:365(0) WARNING: called MPR penetration for non intersecting meshes...\n",
      "-- pairCollision.cpp:libccd:370(0) WARNING: but GJK says intersection\n"
     ]
    },
    {
     "name": "stderr",
     "output_type": "stream",
     "text": [
      " 40%|████      | 400/1000 [03:38<05:51,  1.71it/s]"
     ]
    },
    {
     "name": "stdout",
     "output_type": "stream",
     "text": [
      "Total feasible komos: 0\n",
      "Total error komos: 0\n",
      "Total komos: 400\n",
      "0.00% feasible\n"
     ]
    },
    {
     "name": "stderr",
     "output_type": "stream",
     "text": [
      " 41%|████      | 406/1000 [03:41<04:59,  1.98it/s]"
     ]
    },
    {
     "name": "stdout",
     "output_type": "stream",
     "text": [
      "-- pairCollision.cpp:libccd:365(0) WARNING: called MPR penetration for non intersecting meshes...\n",
      "-- pairCollision.cpp:libccd:370(0) WARNING: but GJK says intersection\n",
      "-- pairCollision.cpp:libccd:365(0) WARNING: called MPR penetration for non intersecting meshes...\n",
      "-- pairCollision.cpp:libccd:370(0) WARNING: but GJK says intersection\n",
      "-- pairCollision.cpp:libccd:365(0) WARNING: called MPR penetration for non intersecting meshes...\n",
      "-- pairCollision.cpp:libccd:370(0) WARNING: but GJK says intersection\n"
     ]
    },
    {
     "name": "stderr",
     "output_type": "stream",
     "text": [
      " 46%|████▌     | 457/1000 [04:12<03:54,  2.31it/s]"
     ]
    },
    {
     "name": "stdout",
     "output_type": "stream",
     "text": [
      "-- pairCollision.cpp:libccd:365(0) WARNING: called MPR penetration for non intersecting meshes...\n",
      "-- pairCollision.cpp:libccd:370(0) WARNING: but GJK says intersection\n"
     ]
    },
    {
     "name": "stderr",
     "output_type": "stream",
     "text": [
      " 47%|████▋     | 469/1000 [04:18<03:42,  2.39it/s]"
     ]
    },
    {
     "name": "stdout",
     "output_type": "stream",
     "text": [
      "-- pairCollision.cpp:libccd:365(0) WARNING: called MPR penetration for non intersecting meshes...\n",
      "-- pairCollision.cpp:libccd:370(0) WARNING: but GJK says intersection\n"
     ]
    },
    {
     "name": "stderr",
     "output_type": "stream",
     "text": [
      " 50%|█████     | 500/1000 [04:34<04:07,  2.02it/s]"
     ]
    },
    {
     "name": "stdout",
     "output_type": "stream",
     "text": [
      "Total feasible komos: 0\n",
      "Total error komos: 0\n",
      "Total komos: 500\n",
      "0.00% feasible\n"
     ]
    },
    {
     "name": "stderr",
     "output_type": "stream",
     "text": [
      " 60%|██████    | 600/1000 [05:31<04:24,  1.51it/s]"
     ]
    },
    {
     "name": "stdout",
     "output_type": "stream",
     "text": [
      "Total feasible komos: 0\n",
      "Total error komos: 0\n",
      "Total komos: 600\n",
      "0.00% feasible\n"
     ]
    },
    {
     "name": "stderr",
     "output_type": "stream",
     "text": [
      " 63%|██████▎   | 626/1000 [05:43<03:01,  2.06it/s]"
     ]
    },
    {
     "name": "stdout",
     "output_type": "stream",
     "text": [
      "-- pairCollision.cpp:libccd:365(0) WARNING: called MPR penetration for non intersecting meshes...\n",
      "-- pairCollision.cpp:libccd:370(0) WARNING: but GJK says intersection\n"
     ]
    },
    {
     "name": "stderr",
     "output_type": "stream",
     "text": [
      " 70%|███████   | 700/1000 [06:26<01:55,  2.59it/s]"
     ]
    },
    {
     "name": "stdout",
     "output_type": "stream",
     "text": [
      "Total feasible komos: 0\n",
      "Total error komos: 0\n",
      "Total komos: 700\n",
      "0.00% feasible\n"
     ]
    },
    {
     "name": "stderr",
     "output_type": "stream",
     "text": [
      " 74%|███████▎  | 737/1000 [06:47<02:00,  2.18it/s]"
     ]
    },
    {
     "name": "stdout",
     "output_type": "stream",
     "text": [
      "-- pairCollision.cpp:libccd:365(0) WARNING: called MPR penetration for non intersecting meshes...\n",
      "-- pairCollision.cpp:libccd:370(0) WARNING: but GJK says intersection\n"
     ]
    },
    {
     "name": "stderr",
     "output_type": "stream",
     "text": [
      " 75%|███████▍  | 748/1000 [06:51<01:14,  3.40it/s]"
     ]
    },
    {
     "name": "stdout",
     "output_type": "stream",
     "text": [
      "-- pairCollision.cpp:libccd:365(0) WARNING: called MPR penetration for non intersecting meshes...\n",
      "-- pairCollision.cpp:libccd:370(0) WARNING: but GJK says intersection\n"
     ]
    },
    {
     "name": "stderr",
     "output_type": "stream",
     "text": [
      " 80%|████████  | 800/1000 [07:16<01:58,  1.69it/s]"
     ]
    },
    {
     "name": "stdout",
     "output_type": "stream",
     "text": [
      "Total feasible komos: 1\n",
      "Total error komos: 0\n",
      "Total komos: 800\n",
      "0.12% feasible\n"
     ]
    },
    {
     "name": "stderr",
     "output_type": "stream",
     "text": [
      " 88%|████████▊ | 882/1000 [07:59<01:02,  1.89it/s]"
     ]
    },
    {
     "name": "stdout",
     "output_type": "stream",
     "text": [
      "-- pairCollision.cpp:libccd:365(0) WARNING: called MPR penetration for non intersecting meshes...\n",
      "-- pairCollision.cpp:libccd:370(0) WARNING: but GJK says intersection\n"
     ]
    },
    {
     "name": "stderr",
     "output_type": "stream",
     "text": [
      " 90%|█████████ | 900/1000 [08:11<01:08,  1.46it/s]"
     ]
    },
    {
     "name": "stdout",
     "output_type": "stream",
     "text": [
      "Total feasible komos: 1\n",
      "Total error komos: 0\n",
      "Total komos: 900\n",
      "0.11% feasible\n"
     ]
    },
    {
     "name": "stderr",
     "output_type": "stream",
     "text": [
      "100%|██████████| 1000/1000 [09:03<00:00,  1.84it/s]"
     ]
    },
    {
     "name": "stdout",
     "output_type": "stream",
     "text": [
      "Total feasible komos: 1\n",
      "Total error komos: 0\n",
      "Total komos: 1000\n",
      "0.10% feasible\n"
     ]
    },
    {
     "name": "stderr",
     "output_type": "stream",
     "text": [
      "\n"
     ]
    }
   ],
   "source": [
    "total_komos = 0\n",
    "total_feasible_komos = 0\n",
    "total_error_komos = 0\n",
    "\n",
    "feasible_komos = []\n",
    "error_komos = []\n",
    "\n",
    "for i in tqdm(range(komo_samples)):\n",
    "    \n",
    "    filename = os.path.join(text_outfolder, f\"komo{i}.txt\")\n",
    "    with open(filename, \"r\") as file:\n",
    "        komo_text = file.read()\n",
    "\n",
    "    # print(f\"Processing file {filename}...\")\n",
    "    total_komos += 1\n",
    "    \n",
    "    # try:\n",
    "    komo = ry.KOMO(C, 1, 1, 0, False)\n",
    "    exec(komo_text)\n",
    "    ret = ry.NLP_Solver(komo.nlp(), verbose=0).solve()\n",
    "    # except:\n",
    "    #     print(komo_text)\n",
    "    #     exit()\n",
    "    #     total_error_komos += 1\n",
    "    #     error_komos.append(i)\n",
    "    #     continue\n",
    "    \n",
    "    if ret.feasible:\n",
    "        total_feasible_komos += 1\n",
    "        feasible_komos.append(i)\n",
    "    \n",
    "    if (i+1)%(komo_samples//10) == 0:\n",
    "        print(f\"Total feasible komos: {total_feasible_komos}\")\n",
    "        print(f\"Total error komos: {total_error_komos}\")\n",
    "        print(f\"Total komos: {total_komos}\")\n",
    "        print(f\"{(total_feasible_komos/total_komos)*100:.2f}% feasible\")"
   ]
  },
  {
   "cell_type": "code",
   "execution_count": 8,
   "metadata": {},
   "outputs": [
    {
     "name": "stdout",
     "output_type": "stream",
     "text": [
      "Total feasible komos - Total error komos - Total komos: \n",
      "1 - 0 - 1000. \n",
      "(0.10% feasible)\n",
      "[744]\n"
     ]
    }
   ],
   "source": [
    "result = f\"\"\"Total feasible komos - Total error komos - Total komos: \n",
    "{total_feasible_komos} - {total_error_komos} - {total_komos}. \n",
    "({(total_feasible_komos/total_komos)*100:.2f}% feasible)\"\"\"\n",
    "print(result)\n",
    "print(feasible_komos)\n",
    "results_file_path = os.path.join(outfolder, \"feasibles.json\")\n",
    "results_dict = {\n",
    "    \"feasible_komos\": feasible_komos,\n",
    "    \"error_komos\": error_komos,\n",
    "}\n",
    "json.dump(results_dict, open(results_file_path, 'w'))"
   ]
  },
  {
   "cell_type": "markdown",
   "metadata": {},
   "source": [
    "## Generate slices"
   ]
  },
  {
   "cell_type": "code",
   "execution_count": null,
   "metadata": {},
   "outputs": [],
   "source": [
    "for i in tqdm(range(komo_samples)):\n",
    "    \n",
    "    filename = os.path.join(text_outfolder, f\"komo{i}.txt\")\n",
    "    with open(filename, \"r\") as file:\n",
    "        komo_text = file.read()\n",
    "\n",
    "    # print(f\"Processing file {filename}...\")\n",
    "    total_komos += 1\n",
    "    \n",
    "    # try:\n",
    "    komo = ry.KOMO(C, 1, 1, 0, False)\n",
    "    exec(komo_text)\n",
    "    ret = ry.NLP_Solver(komo.nlp(), verbose=0).solve()\n",
    "    # except:\n",
    "    #     print(komo_text)\n",
    "    #     exit()\n",
    "    #     total_error_komos += 1\n",
    "    #     error_komos.append(i)\n",
    "    #     continue\n",
    "    \n",
    "    if ret.feasible:\n",
    "        total_feasible_komos += 1\n",
    "        feasible_komos.append(i)\n",
    "    \n",
    "    if (i+1)%(komo_samples//10) == 0:\n",
    "        print(f\"Total feasible komos: {total_feasible_komos}\")\n",
    "        print(f\"Total error komos: {total_error_komos}\")\n",
    "        print(f\"Total komos: {total_komos}\")\n",
    "        print(f\"{(total_feasible_komos/total_komos)*100:.2f}% feasible\")"
   ]
  },
  {
   "cell_type": "markdown",
   "metadata": {},
   "source": [
    "## Visualize feasible KOMOs"
   ]
  },
  {
   "cell_type": "code",
   "execution_count": 9,
   "metadata": {},
   "outputs": [
    {
     "name": "stdout",
     "output_type": "stream",
     "text": [
      "__________ SAMPLE 744 __________\n",
      "# Pick object alcohol_5 with endeffector l_gripper and place it on top of cameraWrist.\n",
      "# Follow the endeff pass sequence: l_gripper, r_gripper.\n",
      "komo = ry.KOMO(C, 3, 1, 2, False)\n",
      "komo.addControlObjective([], 0, 1e-1)\n",
      "komo.addControlObjective([], 1, 1e-1)\n",
      "komo.addControlObjective([], 2, 1e0)\n",
      "komo.addObjective([], ry.FS.jointLimits, [], ry.OT.ineq)\n",
      "komo.addObjective([], ry.FS.position, ['omnibase'], ry.OT.sos, [1e0], [], 1)\n",
      "komo.addObjective([1], ry.FS.positionDiff, ['l_gripper', 'alcohol_5'], ry.OT.eq, [1e1])\n",
      "komo.addModeSwitch([1, 2], ry.SY.stable, ['l_gripper', 'alcohol_5'], True)\n",
      "komo.addObjective([2], ry.FS.positionDiff, ['r_gripper', 'alcohol_5'], ry.OT.eq, [1e1])\n",
      "komo.addModeSwitch([2, 3], ry.SY.stable, ['r_gripper', 'alcohol_5'], False)\n",
      "komo.addObjective([3], ry.FS.positionRel, ['cameraWrist', 'alcohol_5'], ry.OT.ineq, [0, 0, -1e1])\n",
      "komo.addObjective([3], ry.FS.negDistance, ['cameraWrist', 'alcohol_5'], ry.OT.ineq, [-1e1], [-0.04])\n",
      "komo.addObjective([3], ry.FS.negDistance, ['cameraWrist', 'alcohol_5'], ry.OT.ineq, [1e1], [0])\n",
      "komo.addObjective([3], ry.FS.positionRel, ['alcohol_5', 'cameraWrist'], ry.OT.ineq, [1e1, 1e1, 0], [0.12, 0.12, 0])\n",
      "komo.addObjective([3], ry.FS.positionRel, ['alcohol_5', 'cameraWrist'], ry.OT.ineq, [-1e1, -1e1, 0], [-0.12, -0.12, 0])\n",
      "\n"
     ]
    }
   ],
   "source": [
    "# outfolder = \"komo_samples_pick\"\n",
    "# text_outfolder = os.path.join(outfolder, \"text\")\n",
    "# feasible_komos = json.load(open(os.path.join(outfolder, \"feasibles.json\"), 'r'))[\"feasible_komos\"]\n",
    "\n",
    "feasibe_samples_count = 10\n",
    "if len(feasible_komos) < feasibe_samples_count:\n",
    "    feasibe_samples = feasible_komos.copy()\n",
    "else:\n",
    "    feasibe_samples = np.random.choice(feasible_komos, feasibe_samples_count, replace=False)\n",
    "    print(feasibe_samples)\n",
    "    feasibe_samples = [6054, 3687, 7429, 6099, 95, 1401, 305, 424, 8623, 5929, 5736]\n",
    "\n",
    "for i in feasibe_samples:\n",
    "\n",
    "    filename = os.path.join(text_outfolder, f\"komo{i}.txt\")\n",
    "    with open(filename, \"r\") as file:\n",
    "        komo_text = file.read()\n",
    "    print(f\"__________ SAMPLE {i} __________\")\n",
    "    print(komo_text)\n",
    "\n",
    "    komo = ry.KOMO(C, 1, 1, 0, False)\n",
    "    exec(komo_text)\n",
    "    ret = ry.NLP_Solver(komo.nlp(), verbose=0).solve()\n",
    "\n",
    "    komo.view(True)\n",
    "    komo.view_play(True, delay=.5)"
   ]
  },
  {
   "cell_type": "code",
   "execution_count": null,
   "metadata": {},
   "outputs": [],
   "source": []
  }
 ],
 "metadata": {
  "kernelspec": {
   "display_name": "Python 3",
   "language": "python",
   "name": "python3"
  },
  "language_info": {
   "codemirror_mode": {
    "name": "ipython",
    "version": 3
   },
   "file_extension": ".py",
   "mimetype": "text/x-python",
   "name": "python",
   "nbconvert_exporter": "python",
   "pygments_lexer": "ipython3",
   "version": "3.12.3"
  }
 },
 "nbformat": 4,
 "nbformat_minor": 2
}
