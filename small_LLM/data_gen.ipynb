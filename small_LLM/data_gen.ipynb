{
 "cells": [
  {
   "cell_type": "code",
   "execution_count": 1,
   "metadata": {},
   "outputs": [],
   "source": [
    "import os\n",
    "import json\n",
    "import numpy as np\n",
    "import robotic as ry\n",
    "from tqdm import tqdm\n",
    "from utils import get_rand_scale_vec\n",
    "from lookup import features, contraint_types\n",
    "from random_kitchen_generator import generate_random_kitchen"
   ]
  },
  {
   "cell_type": "code",
   "execution_count": 2,
   "metadata": {},
   "outputs": [
    {
     "name": "stdout",
     "output_type": "stream",
     "text": [
      "Seed: 84979\n",
      "Files found inside /home/denis/rai-robotModels/robocasa/rai_jointed/fixtures/stoves: 9\n",
      "Files found inside /home/denis/rai-robotModels/robocasa/rai_jointed/fixtures/sinks: 10\n",
      "Files found inside /home/denis/rai-robotModels/robocasa/rai_jointed/fixtures/ovens: 6\n",
      "Files found inside /home/denis/rai-robotModels/robocasa/rai_jointed/fixtures/dishwashers: 3\n"
     ]
    }
   ],
   "source": [
    "# C = ry.Config()\n",
    "# C.addFile(ry.raiPath(\"scenarios/pandaOmnibase.g\"))\n",
    "C = generate_random_kitchen(seed=84979, root_path=\"/home/denis/rai-robotModels/robocasa/\")\n",
    "frame_names = C.getFrameNames()\n",
    "features[\"qItself\"][1] = len(C.getJointState())"
   ]
  },
  {
   "cell_type": "markdown",
   "metadata": {},
   "source": [
    "## Generate KOMO texts"
   ]
  },
  {
   "cell_type": "code",
   "execution_count": 3,
   "metadata": {},
   "outputs": [],
   "source": [
    "# Main Motions\n",
    "max_phases = 4\n",
    "max_phase_contraints = 4\n",
    "target_prob = .7\n",
    "scale_as_vec_prob = .2\n",
    "slices = 32\n",
    "accumulated_collisions = True\n",
    "\n",
    "# Sub-motions\n",
    "prob_sub = .5\n",
    "max_sub = 4\n",
    "uniform_sub_prob = .2\n",
    "\n",
    "# Mode Switches\n",
    "prob_mode_switch = .5\n",
    "max_mode_switches = 2\n",
    "# max_mode_switches = 0\n",
    "uniform_mode_switch_prob = .1\n",
    "\n",
    "# Special Features\n",
    "lucky_frames = [\"r_gripper\", \"r_palm\"]\n",
    "prob_lucky_frame = .7\n",
    "lucky_features = [\"positionDiff\", \"position\", \"vectorX\", \"vectorY\", \"vectorZ\", \"quaternion\", \"negDistance\"]\n",
    "prob_lucky_feature = .3"
   ]
  },
  {
   "cell_type": "code",
   "execution_count": 4,
   "metadata": {},
   "outputs": [],
   "source": [
    "def gen_rand_contraint(start: float, end: float=None) -> str:\n",
    "\n",
    "    if end != None:\n",
    "        times = f\"[{start}, {end}]\"\n",
    "    else:\n",
    "        times = f\"[{start}]\"\n",
    "\n",
    "    if prob_lucky_feature:\n",
    "        feature_name = np.random.choice(lucky_features)\n",
    "    else:\n",
    "        feature_name = np.random.choice(list(features.keys()))\n",
    "\n",
    "    contraint_type = np.random.choice(contraint_types)\n",
    "    # scale_pow = np.random.randint(-2, 3) # As matrix?\n",
    "    if feature_name == \"negDistance\":\n",
    "        scale_pow = 1\n",
    "    else:\n",
    "        scale_pow = np.random.choice([-1, 1]) # As matrix?\n",
    "\n",
    "    scale_as_vec = np.random.random() < scale_as_vec_prob\n",
    "    if features[feature_name][1] != 1 and scale_as_vec:\n",
    "        scale_vec = get_rand_scale_vec(features[feature_name][1])\n",
    "        scale = \"[\"\n",
    "        for v in scale_vec:\n",
    "            if v == 1:\n",
    "                scale += f\"1e{scale_pow}, \"\n",
    "            else:\n",
    "                scale += \"0, \"\n",
    "        scale += \"]\"\n",
    "        scale = scale.replace(\", ]\", \"]\")\n",
    "    else:\n",
    "        scale = f\"[1e{scale_pow}]\"\n",
    "    \n",
    "    frames_count = features[feature_name][0]\n",
    "    frames = np.random.choice(frame_names, frames_count, replace=False).tolist()\n",
    "    \n",
    "    if np.random.random() < prob_lucky_frame:\n",
    "        lucky_frame = np.random.choice(lucky_frames)\n",
    "        if frames_count == 2 and np.random.choice([0, 1]):\n",
    "            frames[1] = str(lucky_frame)\n",
    "        else:\n",
    "            frames[0] = str(lucky_frame)\n",
    "\n",
    "    specific_target = np.random.random() < target_prob\n",
    "    if specific_target:\n",
    "        if feature_name == \"negDistance\":\n",
    "            target = np.round(np.random.uniform(-2, 0, 1), 3).tolist()\n",
    "        else:\n",
    "            if feature_name == \"qItself\":\n",
    "                target_range = np.pi*2\n",
    "            else:\n",
    "                target_range = 2\n",
    "            target = np.round(np.random.uniform(-target_range, target_range, (features[feature_name][1])), 3).tolist()\n",
    "        contraint_line = f\"komo.addObjective({times}, ry.FS.{feature_name}, {frames}, ry.OT.{contraint_type}, {scale}, {target})\\n\"\n",
    "    else:\n",
    "        contraint_line = f\"komo.addObjective({times}, ry.FS.{feature_name}, {frames}, ry.OT.{contraint_type}, {scale})\\n\"\n",
    "\n",
    "    return contraint_line\n",
    "\n",
    "\n",
    "def random_start_end(phases_count: int, uniform_prob: float) -> tuple[float, float]:\n",
    "    if np.random.random() < uniform_prob:\n",
    "        start = np.random.uniform(0, phases_count-.1)\n",
    "        start = np.round(start, 1)\n",
    "        end = np.random.uniform(start+.1, phases_count)\n",
    "        end = np.round(end, 1)\n",
    "    else:\n",
    "        start = np.random.randint(0, phases_count)\n",
    "        end = np.random.randint(start+1, phases_count+1)\n",
    "\n",
    "    return start, end\n",
    "\n",
    "\n",
    "def generate_random_komo() -> str:\n",
    "    phases_count = np.random.randint(1, max_phases+1)\n",
    "    sub_count = np.random.randint(0, max_sub+1)\n",
    "    mode_switch_count = np.random.randint(0, max_mode_switches+1)\n",
    "\n",
    "    final_komo = \"\"\n",
    "    final_komo += f\"komo = ry.KOMO(C, {phases_count}, {slices}, 2, {accumulated_collisions})\\n\"\n",
    "    final_komo += f\"komo.addControlObjective([], 0, 1e-2)\\n\"\n",
    "    final_komo += f\"komo.addControlObjective([], 1, 1e-1)\\n\"\n",
    "    final_komo += f\"komo.addControlObjective([], 2, 1e0)\\n\"\n",
    "    final_komo += f\"komo.addObjective([], ry.FS.jointLimits, [], ry.OT.ineq)\\n\"\n",
    "    if accumulated_collisions:\n",
    "        final_komo += f\"komo.addObjective([], ry.FS.accumulatedCollisions, [], ry.OT.eq)\\n\"\n",
    "\n",
    "    # Main phases\n",
    "    for i in range(phases_count):\n",
    "        repeats = np.random.randint(1, max_phase_contraints+1)\n",
    "        for _ in range(repeats):\n",
    "            final_komo += gen_rand_contraint(i+1)\n",
    "\n",
    "    # Sub-motions\n",
    "    if np.random.random() < prob_sub:\n",
    "        for i in range(sub_count):\n",
    "            start, end = random_start_end(phases_count, uniform_sub_prob)\n",
    "            final_komo += gen_rand_contraint(start, end)\n",
    "\n",
    "    # Mode Switches\n",
    "    if phases_count >= 2 and np.random.random() < prob_mode_switch:\n",
    "        for i in range(mode_switch_count):\n",
    "            first_switch = i == 0\n",
    "            start, end = random_start_end(phases_count, uniform_mode_switch_prob)\n",
    "            frames = np.random.choice(frame_names, 2, replace=False).tolist()\n",
    "            if np.random.random() < prob_lucky_frame:\n",
    "                lucky_frame = np.random.choice(lucky_frames)\n",
    "                frame_idx = np.random.choice([0, 1])\n",
    "                frames[frame_idx] = lucky_frame\n",
    "            final_komo += f\"komo.addModeSwitch([{start}, {end}], ry.SY.stable, {frames}, {first_switch})\\n\"\n",
    "\n",
    "    return final_komo"
   ]
  },
  {
   "cell_type": "code",
   "execution_count": 5,
   "metadata": {},
   "outputs": [
    {
     "name": "stdout",
     "output_type": "stream",
     "text": [
      "komo = ry.KOMO(C, 3, 32, 2, True)\n",
      "komo.addControlObjective([], 0, 1e-2)\n",
      "komo.addControlObjective([], 1, 1e-1)\n",
      "komo.addControlObjective([], 2, 1e0)\n",
      "komo.addObjective([], ry.FS.jointLimits, [], ry.OT.ineq)\n",
      "komo.addObjective([], ry.FS.accumulatedCollisions, [], ry.OT.eq)\n",
      "komo.addObjective([1], ry.FS.vectorY, ['knob_front_right_visual0'], ry.OT.eq, [1e-1, 0, 1e-1])\n",
      "komo.addObjective([1], ry.FS.vectorX, ['r_palm'], ry.OT.sos, [1e-1], [0.984, 1.373, 0.334])\n",
      "komo.addObjective([1], ry.FS.negDistance, ['r_panda_finger_joint2_origin', 'r_gripper'], ry.OT.ineq, [1e1], [-0.365])\n",
      "komo.addObjective([1], ry.FS.vectorX, ['r_gripper'], ry.OT.eq, [1e-1], [-0.534, -1.467, 0.223])\n",
      "komo.addObjective([2], ry.FS.vectorY, ['r_gripper'], ry.OT.sos, [1e-1], [-1.919, 1.554, -0.086])\n",
      "komo.addObjective([2], ry.FS.positionDiff, ['r_palm', 'object_visual3'], ry.OT.ineq, [1e-1], [1.384, -1.706, -1.696])\n",
      "komo.addObjective([2], ry.FS.position, ['r_gripper'], ry.OT.eq, [1e-1], [-1.596, 1.596, -0.613])\n",
      "komo.addObjective([2], ry.FS.vectorY, ['r_panda_link5'], ry.OT.sos, [1e-1])\n",
      "komo.addObjective([3], ry.FS.position, ['r_gripper'], ry.OT.ineq, [1e1])\n",
      "komo.addObjective([3], ry.FS.vectorZ, ['can_6'], ry.OT.sos, [1e1, 1e1, 0], [-0.41, -0.051, 0.137])\n",
      "komo.addModeSwitch([0, 3], ry.SY.stable, ['r_panda_link5_0', 'r_panda_joint2_origin'], True)\n",
      "komo.addModeSwitch([1, 2], ry.SY.stable, ['r_panda_link5', 'object_visual3'], False)\n",
      "\n"
     ]
    }
   ],
   "source": [
    "komo_text = generate_random_komo()\n",
    "print(komo_text)"
   ]
  },
  {
   "cell_type": "code",
   "execution_count": 6,
   "metadata": {},
   "outputs": [
    {
     "name": "stderr",
     "output_type": "stream",
     "text": [
      "100%|██████████| 100000/100000 [00:21<00:00, 4735.69it/s]\n"
     ]
    }
   ],
   "source": [
    "komo_samples = 100_000\n",
    "\n",
    "outfolder = \"./komo_samples\"\n",
    "text_outfolder = os.path.join(outfolder, \"texts\")\n",
    "if not os.path.exists(text_outfolder):\n",
    "    os.makedirs(text_outfolder)\n",
    "else:\n",
    "    for file in os.listdir(text_outfolder):\n",
    "        file_path = os.path.join(text_outfolder, file)\n",
    "        os.remove(file_path)\n",
    "\n",
    "for i in tqdm(range(komo_samples)):\n",
    "    komo_text = generate_random_komo()\n",
    "    filename = os.path.join(text_outfolder, f\"komo{i}.txt\")\n",
    "    with open(filename, \"w\") as file:\n",
    "        file.write(komo_text)"
   ]
  },
  {
   "cell_type": "markdown",
   "metadata": {},
   "source": [
    "## Classify KOMO texts"
   ]
  },
  {
   "cell_type": "code",
   "execution_count": 7,
   "metadata": {},
   "outputs": [
    {
     "name": "stderr",
     "output_type": "stream",
     "text": [
      "  0%|          | 3/100000 [00:03<35:54:17,  1.29s/it]== ERROR:frame.cpp:setParent:965(-2) CHECK failed: 'f!=this' -- loop at frame 'r_finger1' when connecting 'r_finger1' to parent 'r_palm'\n",
      "== ERROR:frame.cpp:setParent:965(-2) CHECK failed: 'f!=this' -- loop at frame 'r_panda_rightfinger_0' when connecting 'r_panda_rightfinger_0' to parent 'r_panda_joint2'\n",
      "  0%|          | 6/100000 [00:03<12:45:40,  2.18it/s]"
     ]
    },
    {
     "name": "stdout",
     "output_type": "stream",
     "text": [
      "STACK9 /bin/python3() [0x58238f]\n",
      "STACK8 /home/denis/.local/lib/python3.12/site-packages/robotic/_robotic.so(+0x40a85) [0x7da38ff1fa85]\n",
      "STACK7 /home/denis/.local/lib/python3.12/site-packages/robotic/_robotic.so(+0x92c0d) [0x7da38ff71c0d]\n",
      "STACK6 KOMO::addModeSwitch(rai::ArrayDouble const&, rai::SkeletonSymbol, rai::Array<rai::String> const&, bool)\n",
      "STACK5 KOMO::addSwitch(double, bool, bool, rai::JointType, rai::SwitchInitializationType, char const*, char const*, rai::Transformation const&)\n",
      "STACK4 KOMO::addSwitch(double, bool, std::shared_ptr<rai::KinematicSwitch> const&)\n",
      "STACK3 KOMO::applySwitch(rai::KinematicSwitch const&)\n",
      "STACK2 rai::KinematicSwitch::apply(rai::Array<rai::Frame*>&) const\n",
      "STACK1 rai::Frame::setParent(rai::Frame*, bool, bool)\n",
      "STACK0 rai::LogToken::~LogToken()\n",
      "STACK9 /bin/python3() [0x58238f]\n",
      "STACK8 /home/denis/.local/lib/python3.12/site-packages/robotic/_robotic.so(+0x40a85) [0x7da38ff1fa85]\n",
      "STACK7 /home/denis/.local/lib/python3.12/site-packages/robotic/_robotic.so(+0x92c0d) [0x7da38ff71c0d]\n",
      "STACK6 KOMO::addModeSwitch(rai::ArrayDouble const&, rai::SkeletonSymbol, rai::Array<rai::String> const&, bool)\n",
      "STACK5 KOMO::addSwitch(double, bool, bool, rai::JointType, rai::SwitchInitializationType, char const*, char const*, rai::Transformation const&)\n",
      "STACK4 KOMO::addSwitch(double, bool, std::shared_ptr<rai::KinematicSwitch> const&)\n",
      "STACK3 KOMO::applySwitch(rai::KinematicSwitch const&)\n",
      "STACK2 rai::KinematicSwitch::apply(rai::Array<rai::Frame*>&) const\n",
      "STACK1 rai::Frame::setParent(rai::Frame*, bool, bool)\n",
      "STACK0 rai::LogToken::~LogToken()\n"
     ]
    },
    {
     "name": "stderr",
     "output_type": "stream",
     "text": [
      "  0%|          | 25/100000 [00:42<41:54:00,  1.51s/it]== ERROR:frame.cpp:setParent:965(-2) CHECK failed: 'f!=this' -- loop at frame 'r_panda_joint2_origin' when connecting 'r_panda_joint2_origin' to parent 'r_panda_hand'\n",
      "  0%|          | 27/100000 [00:44<36:02:11,  1.30s/it]"
     ]
    },
    {
     "name": "stdout",
     "output_type": "stream",
     "text": [
      "STACK9 /bin/python3() [0x58238f]\n",
      "STACK8 /home/denis/.local/lib/python3.12/site-packages/robotic/_robotic.so(+0x40a85) [0x7da38ff1fa85]\n",
      "STACK7 /home/denis/.local/lib/python3.12/site-packages/robotic/_robotic.so(+0x92c0d) [0x7da38ff71c0d]\n",
      "STACK6 KOMO::addModeSwitch(rai::ArrayDouble const&, rai::SkeletonSymbol, rai::Array<rai::String> const&, bool)\n",
      "STACK5 KOMO::addSwitch(double, bool, bool, rai::JointType, rai::SwitchInitializationType, char const*, char const*, rai::Transformation const&)\n",
      "STACK4 KOMO::addSwitch(double, bool, std::shared_ptr<rai::KinematicSwitch> const&)\n",
      "STACK3 KOMO::applySwitch(rai::KinematicSwitch const&)\n",
      "STACK2 rai::KinematicSwitch::apply(rai::Array<rai::Frame*>&) const\n",
      "STACK1 rai::Frame::setParent(rai::Frame*, bool, bool)\n",
      "STACK0 rai::LogToken::~LogToken()\n"
     ]
    },
    {
     "name": "stderr",
     "output_type": "stream",
     "text": [
      "  0%|          | 40/100000 [01:05<57:52:43,  2.08s/it]== ERROR:frame.cpp:setParent:965(-2) CHECK failed: 'f!=this' -- loop at frame 'r_panda_link8' when connecting 'r_panda_link8' to parent 'r_gripper'\n"
     ]
    },
    {
     "name": "stdout",
     "output_type": "stream",
     "text": [
      "STACK9 /bin/python3() [0x58238f]\n",
      "STACK8 /home/denis/.local/lib/python3.12/site-packages/robotic/_robotic.so(+0x40a85) [0x7da38ff1fa85]\n",
      "STACK7 /home/denis/.local/lib/python3.12/site-packages/robotic/_robotic.so(+0x92c0d) [0x7da38ff71c0d]\n",
      "STACK6 KOMO::addModeSwitch(rai::ArrayDouble const&, rai::SkeletonSymbol, rai::Array<rai::String> const&, bool)\n",
      "STACK5 KOMO::addSwitch(double, bool, bool, rai::JointType, rai::SwitchInitializationType, char const*, char const*, rai::Transformation const&)\n",
      "STACK4 KOMO::addSwitch(double, bool, std::shared_ptr<rai::KinematicSwitch> const&)\n",
      "STACK3 KOMO::applySwitch(rai::KinematicSwitch const&)\n",
      "STACK2 rai::KinematicSwitch::apply(rai::Array<rai::Frame*>&) const\n",
      "STACK1 rai::Frame::setParent(rai::Frame*, bool, bool)\n",
      "STACK0 rai::LogToken::~LogToken()\n"
     ]
    },
    {
     "name": "stderr",
     "output_type": "stream",
     "text": [
      "  0%|          | 42/100000 [01:07<46:09:46,  1.66s/it]"
     ]
    }
   ],
   "source": [
    "total_komos = 0\n",
    "total_feasible_komos = 0\n",
    "total_error_komos = 0\n",
    "\n",
    "feasible_komos = []\n",
    "error_komos = []\n",
    "\n",
    "for i in tqdm(range(komo_samples)):\n",
    "    \n",
    "    filename = os.path.join(text_outfolder, f\"komo{i}.txt\")\n",
    "    with open(filename, \"r\") as file:\n",
    "        komo_text = file.read()\n",
    "\n",
    "    # print(f\"Processing file {filename}...\")\n",
    "    total_komos += 1\n",
    "    \n",
    "    try:\n",
    "        komo = ry.KOMO(C, 1, 1, 0, False)\n",
    "        exec(komo_text)\n",
    "        ret = ry.NLP_Solver(komo.nlp(), verbose=0).solve()\n",
    "    except:\n",
    "        total_error_komos += 1\n",
    "        error_komos.append(i)\n",
    "        continue\n",
    "    \n",
    "    if ret.feasible:\n",
    "        total_feasible_komos += 1\n",
    "        feasible_komos.append(i)\n",
    "    \n",
    "    if (i+1)%(komo_samples//10) == 0:\n",
    "        print(f\"Total feasible komos: {total_feasible_komos}\")\n",
    "        print(f\"Total error komos: {total_error_komos}\")\n",
    "        print(f\"Total komos: {total_komos}\")\n",
    "        print(f\"{(total_feasible_komos/total_komos)*100:.2f}% feasible\")"
   ]
  },
  {
   "cell_type": "code",
   "execution_count": 8,
   "metadata": {},
   "outputs": [
    {
     "name": "stdout",
     "output_type": "stream",
     "text": [
      "Total feasible komos - Total error komos - Total komos: \n",
      "0 - 0 - 10. \n",
      "(0.00% feasible)\n",
      "[]\n"
     ]
    }
   ],
   "source": [
    "result = f\"\"\"Total feasible komos - Total error komos - Total komos: \n",
    "{total_feasible_komos} - {total_error_komos} - {total_komos}. \n",
    "({(total_feasible_komos/total_komos)*100:.2f}% feasible)\"\"\"\n",
    "print(result)\n",
    "print(feasible_komos)\n",
    "results_file_path = os.path.join(outfolder, \"feasibles.json\")\n",
    "results_dict = {\n",
    "    \"feasible_komos\": feasible_komos,\n",
    "    \"error_komos\": error_komos,\n",
    "}\n",
    "json.dump(results_dict, open(results_file_path, 'w'))"
   ]
  },
  {
   "cell_type": "markdown",
   "metadata": {},
   "source": [
    "## Visualize feasible KOMOs"
   ]
  },
  {
   "cell_type": "code",
   "execution_count": 9,
   "metadata": {},
   "outputs": [
    {
     "ename": "ValueError",
     "evalue": "'a' cannot be empty unless no samples are taken",
     "output_type": "error",
     "traceback": [
      "\u001b[0;31m---------------------------------------------------------------------------\u001b[0m",
      "\u001b[0;31mValueError\u001b[0m                                Traceback (most recent call last)",
      "Cell \u001b[0;32mIn[9], line 2\u001b[0m\n\u001b[1;32m      1\u001b[0m feasibe_samples_count \u001b[38;5;241m=\u001b[39m \u001b[38;5;241m10\u001b[39m\n\u001b[0;32m----> 2\u001b[0m feasibe_samples \u001b[38;5;241m=\u001b[39m \u001b[43mnp\u001b[49m\u001b[38;5;241;43m.\u001b[39;49m\u001b[43mrandom\u001b[49m\u001b[38;5;241;43m.\u001b[39;49m\u001b[43mchoice\u001b[49m\u001b[43m(\u001b[49m\u001b[43mfeasible_komos\u001b[49m\u001b[43m,\u001b[49m\u001b[43m \u001b[49m\u001b[43mfeasibe_samples_count\u001b[49m\u001b[43m,\u001b[49m\u001b[43m \u001b[49m\u001b[43mreplace\u001b[49m\u001b[38;5;241;43m=\u001b[39;49m\u001b[38;5;28;43;01mFalse\u001b[39;49;00m\u001b[43m)\u001b[49m\n\u001b[1;32m      4\u001b[0m \u001b[38;5;28;01mfor\u001b[39;00m i \u001b[38;5;129;01min\u001b[39;00m feasibe_samples:\n\u001b[1;32m      6\u001b[0m     filename \u001b[38;5;241m=\u001b[39m os\u001b[38;5;241m.\u001b[39mpath\u001b[38;5;241m.\u001b[39mjoin(text_outfolder, \u001b[38;5;124mf\u001b[39m\u001b[38;5;124m\"\u001b[39m\u001b[38;5;124mkomo\u001b[39m\u001b[38;5;132;01m{\u001b[39;00mi\u001b[38;5;132;01m}\u001b[39;00m\u001b[38;5;124m.txt\u001b[39m\u001b[38;5;124m\"\u001b[39m)\n",
      "File \u001b[0;32mnumpy/random/mtrand.pyx:970\u001b[0m, in \u001b[0;36mnumpy.random.mtrand.RandomState.choice\u001b[0;34m()\u001b[0m\n",
      "\u001b[0;31mValueError\u001b[0m: 'a' cannot be empty unless no samples are taken"
     ]
    }
   ],
   "source": [
    "feasibe_samples_count = 10\n",
    "feasibe_samples = np.random.choice(feasible_komos, feasibe_samples_count, replace=False)\n",
    "\n",
    "for i in feasibe_samples:\n",
    "\n",
    "    filename = os.path.join(text_outfolder, f\"komo{i}.txt\")\n",
    "    with open(filename, \"r\") as file:\n",
    "        komo_text = file.read()\n",
    "    print(f\"__________ SAMPLE {i} __________\")\n",
    "    print(komo_text)\n",
    "\n",
    "    komo = ry.KOMO(C, 1, 1, 0, False)\n",
    "    exec(komo_text)\n",
    "    ret = ry.NLP_Solver(komo.nlp(), verbose=0).solve()\n",
    "\n",
    "    komo.view_play(True)"
   ]
  }
 ],
 "metadata": {
  "kernelspec": {
   "display_name": "Python 3",
   "language": "python",
   "name": "python3"
  },
  "language_info": {
   "codemirror_mode": {
    "name": "ipython",
    "version": 3
   },
   "file_extension": ".py",
   "mimetype": "text/x-python",
   "name": "python",
   "nbconvert_exporter": "python",
   "pygments_lexer": "ipython3",
   "version": "3.12.3"
  }
 },
 "nbformat": 4,
 "nbformat_minor": 2
}
