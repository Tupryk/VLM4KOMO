{
 "cells": [
  {
   "cell_type": "code",
   "execution_count": 150,
   "metadata": {},
   "outputs": [],
   "source": [
    "import numpy as np\n",
    "from utils import get_rand_scale_vec\n",
    "from lookup import features, frame_names, contraint_types"
   ]
  },
  {
   "cell_type": "code",
   "execution_count": 151,
   "metadata": {},
   "outputs": [],
   "source": [
    "# Main motions\n",
    "max_phases = 4\n",
    "max_phase_contraints = 4\n",
    "target_prob = .7\n",
    "scale_as_vec_prob = .2\n",
    "slices = 32\n",
    "accumulated_collisions = False\n",
    "\n",
    "# Sub-motions\n",
    "uniform_mode_switch_prob = .1\n",
    "max_mode_switches = 2"
   ]
  },
  {
   "cell_type": "code",
   "execution_count": 152,
   "metadata": {},
   "outputs": [],
   "source": [
    "phases_count = np.random.randint(1, max_phases+1)\n",
    "mode_switch_count = np.random.randint(0, max_mode_switches+1)\n",
    "\n",
    "final_komo = \"\"\n",
    "final_komo += f\"komo = ry.KOMO(C, {phases_count}, {slices}, 2, {accumulated_collisions})\\n\"\n",
    "final_komo += f\"komo.addControlObjective([], 0, 1e-2)\\n\"\n",
    "final_komo += f\"komo.addControlObjective([], 1, 1e-1)\\n\"\n",
    "final_komo += f\"komo.addControlObjective([], 2, 1e0)\\n\"\n",
    "final_komo += f\"komo.addObjective([], ry.FS.jointLimits, [], ry.OT.ineq)\\n\"\n",
    "final_komo += f\"komo.addObjective([], ry.FS.accumulatedCollisions, [], ry.OT.eq)\\n\""
   ]
  },
  {
   "cell_type": "code",
   "execution_count": 153,
   "metadata": {},
   "outputs": [],
   "source": [
    "# Main phases\n",
    "for i in range(phases_count):\n",
    "    \n",
    "    repeats = np.random.randint(1, max_phase_contraints+1) # TODO: Make this non-uniform\n",
    "\n",
    "    for _ in range(repeats):\n",
    "        feature_name = np.random.choice(list(features.keys()))\n",
    "        contraint_type = np.random.choice(contraint_types)\n",
    "        scale_pow = np.random.randint(-2, 3) # As matrix?\n",
    "\n",
    "        scale_as_vec = np.random.random() < scale_as_vec_prob\n",
    "        if scale_as_vec:\n",
    "            scale_vec = get_rand_scale_vec(features[feature_name][1])\n",
    "            scale = \"[\"\n",
    "            for v in scale_vec:\n",
    "                if v == 1:\n",
    "                    scale += f\"1e{scale_pow}, \"\n",
    "                else:\n",
    "                    scale += \"0, \"\n",
    "            scale += \"]\"\n",
    "            scale = scale.replace(\", ]\", \"]\")\n",
    "        else:\n",
    "            scale = f\"[1e{scale_pow}]\"\n",
    "        \n",
    "        frames_count = features[feature_name][0]\n",
    "        frames = np.random.choice(frame_names, frames_count, replace=False).tolist()\n",
    "\n",
    "        specific_target = np.random.random() < target_prob\n",
    "        if specific_target:\n",
    "            target_range = np.pi*2\n",
    "            target = np.round(np.random.uniform(-target_range, target_range, (features[feature_name][1])), 3).tolist()\n",
    "            final_komo += f\"komo.addObjective([{i+1}], ry.FS.{feature_name}, {frames}, ry.OT.{contraint_type}, {scale}, {target})\\n\"\n",
    "        else:\n",
    "            final_komo += f\"komo.addObjective([{i+1}], ry.FS.{feature_name}, {frames}, ry.OT.{contraint_type}, {scale})\\n\"\n",
    "\n",
    "# Mode Switches\n",
    "if phases_count >= 2:\n",
    "    for i in range(mode_switch_count):\n",
    "        first_switch = i == 0\n",
    "        if np.random.random() < uniform_mode_switch_prob:\n",
    "            start = np.random.uniform(0, phases_count-.1)\n",
    "            start = np.round(start, 1)\n",
    "            end = np.random.uniform(start+.1, phases_count)\n",
    "            end = np.round(end, 1)\n",
    "        else:\n",
    "            start = np.random.randint(0, phases_count)\n",
    "            end = np.random.randint(start+1, phases_count+1)\n",
    "            \n",
    "        frames = np.random.choice(frame_names, 2, replace=False).tolist()\n",
    "        final_komo += f\"komo.addModeSwitch([{start}, {end}], ry.SY.stable, {frames}, {first_switch})\\n\""
   ]
  },
  {
   "cell_type": "code",
   "execution_count": 154,
   "metadata": {},
   "outputs": [
    {
     "name": "stdout",
     "output_type": "stream",
     "text": [
      "komo = ry.KOMO(C, 2, 32, 2, False)\n",
      "komo.addControlObjective([], 0, 1e-2)\n",
      "komo.addControlObjective([], 1, 1e-1)\n",
      "komo.addControlObjective([], 2, 1e0)\n",
      "komo.addObjective([], ry.FS.jointLimits, [], ry.OT.ineq)\n",
      "komo.addObjective([], ry.FS.accumulatedCollisions, [], ry.OT.eq)\n",
      "komo.addObjective([1], ry.FS.scalarProductYZ, ['box2', 'l_gripper'], ry.OT.sos, [1e-2])\n",
      "komo.addObjective([2], ry.FS.poseDiff, ['box1', 'box2'], ry.OT.eq, [0, 0, 1e2, 1e2, 0, 0, 1e2], [1.444, -3.594, 4.474, 5.851, 2.849, 1.348, 4.947])\n",
      "komo.addObjective([2], ry.FS.scalarProductXZ, ['box2', 'handle'], ry.OT.eq, [1e-2], [0.296])\n",
      "komo.addObjective([2], ry.FS.scalarProductYY, ['l_gripper', 'box2'], ry.OT.eq, [1e-2], [1.588])\n",
      "komo.addModeSwitch([1, 2], ry.SY.stable, ['l_gripper', 'box2'], True)\n",
      "\n"
     ]
    }
   ],
   "source": [
    "print(final_komo)"
   ]
  },
  {
   "cell_type": "code",
   "execution_count": null,
   "metadata": {},
   "outputs": [],
   "source": []
  }
 ],
 "metadata": {
  "kernelspec": {
   "display_name": "robocup",
   "language": "python",
   "name": "python3"
  },
  "language_info": {
   "codemirror_mode": {
    "name": "ipython",
    "version": 3
   },
   "file_extension": ".py",
   "mimetype": "text/x-python",
   "name": "python",
   "nbconvert_exporter": "python",
   "pygments_lexer": "ipython3",
   "version": "3.10.15"
  }
 },
 "nbformat": 4,
 "nbformat_minor": 2
}
